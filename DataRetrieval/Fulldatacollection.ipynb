{
 "cells": [
  {
   "cell_type": "code",
   "execution_count": 73,
   "metadata": {},
   "outputs": [
    {
     "data": {
      "text/plain": [
       "True"
      ]
     },
     "execution_count": 73,
     "metadata": {},
     "output_type": "execute_result"
    }
   ],
   "source": [
    "import garminconnect\n",
    "import pandas as pd\n",
    "import numpy as np\n",
    "import datetime\n",
    "from sqlalchemy import create_engine, text\n",
    "from dotenv import load_dotenv\n",
    "from supabase import create_client\n",
    "import os\n",
    "\n",
    "\n",
    "\n",
    "load_dotenv()"
   ]
  },
  {
   "cell_type": "code",
   "execution_count": 74,
   "metadata": {},
   "outputs": [
    {
     "data": {
      "text/plain": [
       "'5f3dc0bc-4916-4755-894b-cca99162502b'"
      ]
     },
     "execution_count": 74,
     "metadata": {},
     "output_type": "execute_result"
    }
   ],
   "source": [
    "email = os.getenv(\"email\")\n",
    "password = os.getenv(\"garminpassword\")\\\n",
    "\n",
    "garmin = garminconnect.Garmin(email, password)\n",
    "garmin.login()\n",
    "\n",
    "garmin.display_name"
   ]
  },
  {
   "cell_type": "markdown",
   "metadata": {},
   "source": [
    "**Export sleep movment data to timeseries table** "
   ]
  },
  {
   "cell_type": "code",
   "execution_count": 75,
   "metadata": {},
   "outputs": [],
   "source": [
    "def safe_dataframe(data, key):\n",
    "    \"\"\"\n",
    "    Safely extracts a nested value from a dictionary and returns a DataFrame.\n",
    "    Handles missing keys, None values, scalars, or poorly structured dicts.\n",
    "    \"\"\"\n",
    "    nested = data.get(key)\n",
    "\n",
    "    if not nested:\n",
    "        return pd.DataFrame()\n",
    "\n",
    "    # If a dict but all values are scalars (not dicts/lists), skip it\n",
    "    if isinstance(nested, dict):\n",
    "        if all(not isinstance(v, (dict, list)) for v in nested.values()):\n",
    "            return pd.DataFrame()\n",
    "        return pd.DataFrame([nested])  \n",
    "    \n",
    "    # If list of struct objects or list\n",
    "    if isinstance(nested, list):\n",
    "        return pd.DataFrame(nested)\n",
    "\n",
    "    # return empty \n",
    "    return pd.DataFrame()"
   ]
  },
  {
   "cell_type": "code",
   "execution_count": 76,
   "metadata": {},
   "outputs": [
    {
     "name": "stdout",
     "output_type": "stream",
     "text": [
      "              id  userProfilePK calendarDate  sleepTimeSeconds  \\\n",
      "0  1749687960000       80897268   2025-06-12             24660   \n",
      "\n",
      "   napTimeSeconds  sleepWindowConfirmed sleepWindowConfirmationType  \\\n",
      "0               0                  True    enhanced_confirmed_final   \n",
      "\n",
      "   sleepStartTimestampGMT  sleepEndTimestampGMT  sleepStartTimestampLocal  \\\n",
      "0           1749687960000         1749713640000             1749691560000   \n",
      "\n",
      "   ...  lowestRespirationValue highestRespirationValue awakeCount  \\\n",
      "0  ...                    10.0                    20.0          1   \n",
      "\n",
      "  avgSleepStress ageGroup  sleepScoreFeedback  sleepScoreInsight  \\\n",
      "0           19.0    ADULT       POSITIVE_DEEP               NONE   \n",
      "\n",
      "   sleepScorePersonalizedInsight  \\\n",
      "0                  NOT_AVAILABLE   \n",
      "\n",
      "                                         sleepScores  sleepVersion  \n",
      "0  {'totalDuration': {'qualifierKey': 'FAIR', 'op...             2  \n",
      "\n",
      "[1 rows x 38 columns]\n"
     ]
    }
   ],
   "source": [
    "import json\n",
    "date = '2025-06-12'\n",
    "\n",
    "def getdata(date):\n",
    "    return garmin.get_sleep_data(date)\n",
    "    \n",
    "\n",
    "def getgeneral(data):\n",
    "        return safe_dataframe(data, 'dailySleepDTO')\n",
    "\n",
    "data = getdata(date)\n",
    "df_general = getgeneral(data)\n",
    "\n",
    "print(df_general.head())"
   ]
  },
  {
   "cell_type": "code",
   "execution_count": 77,
   "metadata": {},
   "outputs": [
    {
     "name": "stdout",
     "output_type": "stream",
     "text": [
      "             startGMT              endGMT  activityLevel\n",
      "0 2025-06-11 23:26:00 2025-06-11 23:27:00       5.520759\n",
      "1 2025-06-11 23:27:00 2025-06-11 23:28:00       5.036847\n",
      "2 2025-06-11 23:28:00 2025-06-11 23:29:00       4.529466\n",
      "3 2025-06-11 23:29:00 2025-06-11 23:30:00       4.008012\n",
      "4 2025-06-11 23:30:00 2025-06-11 23:31:00       3.482673\n"
     ]
    }
   ],
   "source": [
    "def getsleepmovement(data):\n",
    "    \n",
    "    df = safe_dataframe(data, 'sleepMovement')\n",
    "    if 'startGMT' in df.columns:\n",
    "        df['startGMT'] = pd.to_datetime(df['startGMT'])\n",
    "    if 'endGMT' in df.columns:\n",
    "        df['endGMT'] = pd.to_datetime(df['endGMT'])\n",
    "    return df\n",
    "   \n",
    "df_sleep_movement = getsleepmovement(data)\n",
    "print(df_sleep_movement.head())"
   ]
  },
  {
   "cell_type": "markdown",
   "metadata": {},
   "source": [
    "**spo2 Data**"
   ]
  },
  {
   "cell_type": "code",
   "execution_count": 78,
   "metadata": {},
   "outputs": [
    {
     "name": "stdout",
     "output_type": "stream",
     "text": [
      "   userProfilePK      epochTimestamp    deviceId           calendarDate  \\\n",
      "0       80897268 2025-06-12 00:26:00  3339097678  2025-06-12T00:00:00.0   \n",
      "1       80897268 2025-06-12 00:27:00  3339097678  2025-06-12T00:00:00.0   \n",
      "2       80897268 2025-06-12 00:28:00  3339097678  2025-06-12T00:00:00.0   \n",
      "3       80897268 2025-06-12 00:29:00  3339097678  2025-06-12T00:00:00.0   \n",
      "4       80897268 2025-06-12 00:30:00  3339097678  2025-06-12T00:00:00.0   \n",
      "\n",
      "   epochDuration  spo2Reading  readingConfidence  \n",
      "0             60           95                 17  \n",
      "1             60           96                 14  \n",
      "2             60           96                 25  \n",
      "3             60           94                 19  \n",
      "4             60           94                  6  \n"
     ]
    }
   ],
   "source": [
    "def getspo2(data):\n",
    "\n",
    "    df = safe_dataframe(data, 'wellnessEpochSPO2DataDTOList')\n",
    "    if 'epochTimestamp' in df.columns:\n",
    "        df['epochTimestamp'] = pd.to_datetime(df['epochTimestamp'])\n",
    "    return df\n",
    "    \n",
    "df_spo2 = getspo2(data)\n",
    "print(df_spo2.head())"
   ]
  },
  {
   "cell_type": "code",
   "execution_count": 79,
   "metadata": {},
   "outputs": [
    {
     "name": "stdout",
     "output_type": "stream",
     "text": [
      "         startTimeGMT  respirationValue\n",
      "0 2025-06-12 00:26:00              13.0\n",
      "1 2025-06-12 00:26:00              13.0\n",
      "2 2025-06-12 00:28:00              13.0\n",
      "3 2025-06-12 00:30:00              13.0\n",
      "4 2025-06-12 00:32:00              13.0\n"
     ]
    }
   ],
   "source": [
    "def getrespiration(data):\n",
    "    df = safe_dataframe(data, 'wellnessEpochRespirationDataDTOList')\n",
    "    if 'startTimeGMT' in df.columns:\n",
    "        df['startTimeGMT'] = pd.to_datetime(df['startTimeGMT'], unit='ms')\n",
    "    \n",
    "    return df\n",
    "    \n",
    "df_respiration = getrespiration(data)\n",
    "print(df_respiration.head())"
   ]
  },
  {
   "cell_type": "code",
   "execution_count": 80,
   "metadata": {},
   "outputs": [
    {
     "name": "stdout",
     "output_type": "stream",
     "text": [
      "   value            startGMT\n",
      "0     82 2025-06-12 00:26:00\n",
      "1     82 2025-06-12 00:28:00\n",
      "2     79 2025-06-12 00:30:00\n",
      "3     76 2025-06-12 00:32:00\n",
      "4     78 2025-06-12 00:34:00\n"
     ]
    }
   ],
   "source": [
    "def getsleepHR(data):\n",
    "    \n",
    "    df = safe_dataframe(data, 'sleepHeartRate')\n",
    "    if 'startGMT' in df.columns:\n",
    "        df['startGMT'] = pd.to_datetime(df['startGMT'], unit='ms')\n",
    "    \n",
    "    return df\n",
    "\n",
    "df_sleephr = getsleepHR(data)\n",
    "print(df_sleephr.head())"
   ]
  },
  {
   "cell_type": "code",
   "execution_count": 81,
   "metadata": {},
   "outputs": [
    {
     "name": "stdout",
     "output_type": "stream",
     "text": [
      "   value            startGMT\n",
      "0     80 2025-06-12 00:24:00\n",
      "1     70 2025-06-12 00:27:00\n",
      "2     52 2025-06-12 00:30:00\n",
      "3     46 2025-06-12 00:33:00\n",
      "4     24 2025-06-12 00:36:00\n"
     ]
    }
   ],
   "source": [
    "def getsleepstress(data):\n",
    "    df = safe_dataframe(data, 'sleepStress')\n",
    "    if 'startGMT' in df.columns:\n",
    "        df['startGMT'] = pd.to_datetime(df['startGMT'], unit='ms')\n",
    "    \n",
    "    return df\n",
    "    \n",
    "df_sleep_stress = getsleepstress(data)\n",
    "print(df_sleep_stress.head())"
   ]
  },
  {
   "cell_type": "code",
   "execution_count": 82,
   "metadata": {},
   "outputs": [
    {
     "name": "stdout",
     "output_type": "stream",
     "text": [
      "     value            startGMT\n",
      "0       10 2025-06-12 00:24:00\n",
      "1       10 2025-06-12 00:27:00\n",
      "2       10 2025-06-12 00:30:00\n",
      "3       10 2025-06-12 00:33:00\n",
      "4       10 2025-06-12 00:36:00\n",
      "..     ...                 ...\n",
      "139     75 2025-06-12 07:21:00\n",
      "140     75 2025-06-12 07:24:00\n",
      "141     75 2025-06-12 07:27:00\n",
      "142     75 2025-06-12 07:30:00\n",
      "143     75 2025-06-12 07:33:00\n",
      "\n",
      "[144 rows x 2 columns]\n"
     ]
    }
   ],
   "source": [
    "def getbodybattery(data):\n",
    "    df = safe_dataframe(data, 'sleepBodyBattery')\n",
    "    if 'startGMT' in df.columns:\n",
    "        df['startGMT'] = pd.to_datetime(df['startGMT'], unit='ms')\n",
    "    \n",
    "    return df\n",
    "\n",
    "\n",
    "df_sleep_BB = getbodybattery(data)\n",
    "print(df_sleep_BB)"
   ]
  },
  {
   "cell_type": "code",
   "execution_count": 83,
   "metadata": {},
   "outputs": [
    {
     "name": "stdout",
     "output_type": "stream",
     "text": [
      "    value            startGMT\n",
      "0    22.0 2025-06-12 00:26:14\n",
      "1    23.0 2025-06-12 00:31:14\n",
      "2    33.0 2025-06-12 00:36:14\n",
      "3    42.0 2025-06-12 00:41:14\n",
      "4    53.0 2025-06-12 00:46:14\n",
      "..    ...                 ...\n",
      "81   60.0 2025-06-12 07:11:14\n",
      "82   57.0 2025-06-12 07:16:14\n",
      "83   58.0 2025-06-12 07:21:14\n",
      "84   57.0 2025-06-12 07:26:14\n",
      "85   53.0 2025-06-12 07:31:14\n",
      "\n",
      "[86 rows x 2 columns]\n"
     ]
    }
   ],
   "source": [
    "def getHRV(data):\n",
    "    df = safe_dataframe(data, 'hrvData')\n",
    "    if 'startGMT' in df.columns:\n",
    "        df['startGMT'] = pd.to_datetime(df['startGMT'], unit='ms')\n",
    "    \n",
    "    return df\n",
    "   \n",
    "\n",
    "df_sleep_HRV = getHRV(data)\n",
    "print(df_sleep_HRV)"
   ]
  },
  {
   "cell_type": "code",
   "execution_count": 84,
   "metadata": {},
   "outputs": [
    {
     "name": "stdout",
     "output_type": "stream",
     "text": [
      "    value            startGMT\n",
      "0    22.0 2025-06-12 00:26:14\n",
      "1    23.0 2025-06-12 00:31:14\n",
      "2    33.0 2025-06-12 00:36:14\n",
      "3    42.0 2025-06-12 00:41:14\n",
      "4    53.0 2025-06-12 00:46:14\n",
      "..    ...                 ...\n",
      "81   60.0 2025-06-12 07:11:14\n",
      "82   57.0 2025-06-12 07:16:14\n",
      "83   58.0 2025-06-12 07:21:14\n",
      "84   57.0 2025-06-12 07:26:14\n",
      "85   53.0 2025-06-12 07:31:14\n",
      "\n",
      "[86 rows x 2 columns]\n"
     ]
    }
   ],
   "source": [
    "def getLevels(data):\n",
    "    sleep_levels_data = data['sleepLevels']\n",
    "    df = safe_dataframe(data, 'hrvData')\n",
    "    if 'startGMT' in df.columns:\n",
    "        df['startGMT'] = pd.to_datetime(df['startGMT'], unit='ms')\n",
    "    if 'endGMT' in df.columns:\n",
    "        df['endGMT'] = pd.to_datetime(df['endGMT'], unit='ms')\n",
    "    return df\n",
    "    \n",
    "\n",
    "df_sleep_levels = getLevels(data)\n",
    "print(df_sleep_levels)"
   ]
  },
  {
   "cell_type": "code",
   "execution_count": 85,
   "metadata": {},
   "outputs": [
    {
     "name": "stdout",
     "output_type": "stream",
     "text": [
      "Connected to: PostgreSQL 17.4 on aarch64-unknown-linux-gnu, compiled by gcc (GCC) 13.2.0, 64-bit\n"
     ]
    }
   ],
   "source": [
    "user = os.getenv(\"user\")\n",
    "password = os.getenv(\"password\")\n",
    "host = os.getenv(\"host\")\n",
    "port = os.getenv(\"port\")\n",
    "dbname = os.getenv(\"dbname\")\n",
    "\n",
    "DATABASE_URL = f\"postgresql://{user}:{password}@{host}:{port}/{dbname}\"\n",
    "engine = create_engine(DATABASE_URL)\n",
    "\n",
    "try:\n",
    "    with engine.connect() as conn:\n",
    "        result = result = conn.execute(text(\"SELECT version();\"))\n",
    "        for row in result:\n",
    "            print(\"Connected to:\", row[0])\n",
    "except Exception as e:\n",
    "    print(\" Connection failed:\", e)"
   ]
  },
  {
   "cell_type": "code",
   "execution_count": 92,
   "metadata": {},
   "outputs": [
    {
     "name": "stdout",
     "output_type": "stream",
     "text": [
      "   avgOvernightHrv  restingHeartRate\n",
      "0             80.0                51\n"
     ]
    }
   ],
   "source": [
    "avgs = {\n",
    "    'avgOvernightHrv': data['avgOvernightHrv'],\n",
    "    'restingHeartRate': data['restingHeartRate']\n",
    "}\n",
    "df_avgs = pd.DataFrame([avgs])\n",
    "print(df_avgs)"
   ]
  },
  {
   "cell_type": "code",
   "execution_count": 87,
   "metadata": {},
   "outputs": [
    {
     "name": "stdout",
     "output_type": "stream",
     "text": [
      "Processing date: 2025-06-25\n"
     ]
    },
    {
     "ename": "KeyboardInterrupt",
     "evalue": "",
     "output_type": "error",
     "traceback": [
      "\u001b[0;31m---------------------------------------------------------------------------\u001b[0m",
      "\u001b[0;31mKeyboardInterrupt\u001b[0m                         Traceback (most recent call last)",
      "Cell \u001b[0;32mIn[87], line 64\u001b[0m\n\u001b[1;32m     58\u001b[0m     \u001b[39mprint\u001b[39m(\u001b[39m\"\u001b[39m\u001b[39mStopped after too many missing days.\u001b[39m\u001b[39m\"\u001b[39m)\n\u001b[1;32m     63\u001b[0m today \u001b[39m=\u001b[39m datetime\u001b[39m.\u001b[39mdate\u001b[39m.\u001b[39mtoday()\u001b[39m.\u001b[39mstrftime(\u001b[39m\"\u001b[39m\u001b[39m%\u001b[39m\u001b[39mY-\u001b[39m\u001b[39m%\u001b[39m\u001b[39mm-\u001b[39m\u001b[39m%d\u001b[39;00m\u001b[39m\"\u001b[39m)\n\u001b[0;32m---> 64\u001b[0m loopbackwards(today, engine)\n",
      "Cell \u001b[0;32mIn[87], line 48\u001b[0m, in \u001b[0;36mloopbackwards\u001b[0;34m(start_date_str, engine, max_misses)\u001b[0m\n\u001b[1;32m     46\u001b[0m \u001b[39mwhile\u001b[39;00m misses \u001b[39m<\u001b[39m max_misses:\n\u001b[1;32m     47\u001b[0m     \u001b[39mprint\u001b[39m(\u001b[39mf\u001b[39m\u001b[39m\"\u001b[39m\u001b[39mProcessing date: \u001b[39m\u001b[39m{\u001b[39;00mcurrent_date\u001b[39m}\u001b[39;00m\u001b[39m\"\u001b[39m)\n\u001b[0;32m---> 48\u001b[0m     success \u001b[39m=\u001b[39m processupload(\u001b[39mstr\u001b[39;49m(current_date), engine)\n\u001b[1;32m     50\u001b[0m     \u001b[39mif\u001b[39;00m success \u001b[39mis\u001b[39;00m \u001b[39mNone\u001b[39;00m:\n\u001b[1;32m     51\u001b[0m         \u001b[39mprint\u001b[39m(\u001b[39mf\u001b[39m\u001b[39m\"\u001b[39m\u001b[39mNo sleep data for \u001b[39m\u001b[39m{\u001b[39;00mcurrent_date\u001b[39m}\u001b[39;00m\u001b[39m. Skipping.\u001b[39m\u001b[39m\"\u001b[39m)\n",
      "Cell \u001b[0;32mIn[87], line 37\u001b[0m, in \u001b[0;36mprocessupload\u001b[0;34m(date, engine)\u001b[0m\n\u001b[1;32m     35\u001b[0m \u001b[39mfor\u001b[39;00m table_name, df \u001b[39min\u001b[39;00m frames\u001b[39m.\u001b[39mitems():\n\u001b[1;32m     36\u001b[0m     df[\u001b[39m'\u001b[39m\u001b[39mcalendarDate\u001b[39m\u001b[39m'\u001b[39m] \u001b[39m=\u001b[39m date\n\u001b[0;32m---> 37\u001b[0m     df\u001b[39m.\u001b[39;49mto_sql(table_name, con\u001b[39m=\u001b[39;49mengine, if_exists\u001b[39m=\u001b[39;49m\u001b[39m\"\u001b[39;49m\u001b[39mappend\u001b[39;49m\u001b[39m\"\u001b[39;49m, index\u001b[39m=\u001b[39;49m\u001b[39mFalse\u001b[39;49;00m)\n\u001b[1;32m     39\u001b[0m \u001b[39mreturn\u001b[39;00m \u001b[39mTrue\u001b[39;00m\n",
      "File \u001b[0;32m/Library/Frameworks/Python.framework/Versions/3.10/lib/python3.10/site-packages/pandas/util/_decorators.py:333\u001b[0m, in \u001b[0;36mdeprecate_nonkeyword_arguments.<locals>.decorate.<locals>.wrapper\u001b[0;34m(*args, **kwargs)\u001b[0m\n\u001b[1;32m    327\u001b[0m \u001b[39mif\u001b[39;00m \u001b[39mlen\u001b[39m(args) \u001b[39m>\u001b[39m num_allow_args:\n\u001b[1;32m    328\u001b[0m     warnings\u001b[39m.\u001b[39mwarn(\n\u001b[1;32m    329\u001b[0m         msg\u001b[39m.\u001b[39mformat(arguments\u001b[39m=\u001b[39m_format_argument_list(allow_args)),\n\u001b[1;32m    330\u001b[0m         \u001b[39mFutureWarning\u001b[39;00m,\n\u001b[1;32m    331\u001b[0m         stacklevel\u001b[39m=\u001b[39mfind_stack_level(),\n\u001b[1;32m    332\u001b[0m     )\n\u001b[0;32m--> 333\u001b[0m \u001b[39mreturn\u001b[39;00m func(\u001b[39m*\u001b[39;49margs, \u001b[39m*\u001b[39;49m\u001b[39m*\u001b[39;49mkwargs)\n",
      "File \u001b[0;32m/Library/Frameworks/Python.framework/Versions/3.10/lib/python3.10/site-packages/pandas/core/generic.py:3087\u001b[0m, in \u001b[0;36mNDFrame.to_sql\u001b[0;34m(self, name, con, schema, if_exists, index, index_label, chunksize, dtype, method)\u001b[0m\n\u001b[1;32m   2889\u001b[0m \u001b[39m\u001b[39m\u001b[39m\"\"\"\u001b[39;00m\n\u001b[1;32m   2890\u001b[0m \u001b[39mWrite records stored in a DataFrame to a SQL database.\u001b[39;00m\n\u001b[1;32m   2891\u001b[0m \n\u001b[0;32m   (...)\u001b[0m\n\u001b[1;32m   3083\u001b[0m \u001b[39m[(1,), (None,), (2,)]\u001b[39;00m\n\u001b[1;32m   3084\u001b[0m \u001b[39m\"\"\"\u001b[39;00m  \u001b[39m# noqa: E501\u001b[39;00m\n\u001b[1;32m   3085\u001b[0m \u001b[39mfrom\u001b[39;00m \u001b[39mpandas\u001b[39;00m\u001b[39m.\u001b[39;00m\u001b[39mio\u001b[39;00m \u001b[39mimport\u001b[39;00m sql\n\u001b[0;32m-> 3087\u001b[0m \u001b[39mreturn\u001b[39;00m sql\u001b[39m.\u001b[39;49mto_sql(\n\u001b[1;32m   3088\u001b[0m     \u001b[39mself\u001b[39;49m,\n\u001b[1;32m   3089\u001b[0m     name,\n\u001b[1;32m   3090\u001b[0m     con,\n\u001b[1;32m   3091\u001b[0m     schema\u001b[39m=\u001b[39;49mschema,\n\u001b[1;32m   3092\u001b[0m     if_exists\u001b[39m=\u001b[39;49mif_exists,\n\u001b[1;32m   3093\u001b[0m     index\u001b[39m=\u001b[39;49mindex,\n\u001b[1;32m   3094\u001b[0m     index_label\u001b[39m=\u001b[39;49mindex_label,\n\u001b[1;32m   3095\u001b[0m     chunksize\u001b[39m=\u001b[39;49mchunksize,\n\u001b[1;32m   3096\u001b[0m     dtype\u001b[39m=\u001b[39;49mdtype,\n\u001b[1;32m   3097\u001b[0m     method\u001b[39m=\u001b[39;49mmethod,\n\u001b[1;32m   3098\u001b[0m )\n",
      "File \u001b[0;32m/Library/Frameworks/Python.framework/Versions/3.10/lib/python3.10/site-packages/pandas/io/sql.py:841\u001b[0m, in \u001b[0;36mto_sql\u001b[0;34m(frame, name, con, schema, if_exists, index, index_label, chunksize, dtype, method, engine, **engine_kwargs)\u001b[0m\n\u001b[1;32m    836\u001b[0m \u001b[39melif\u001b[39;00m \u001b[39mnot\u001b[39;00m \u001b[39misinstance\u001b[39m(frame, DataFrame):\n\u001b[1;32m    837\u001b[0m     \u001b[39mraise\u001b[39;00m \u001b[39mNotImplementedError\u001b[39;00m(\n\u001b[1;32m    838\u001b[0m         \u001b[39m\"\u001b[39m\u001b[39m'\u001b[39m\u001b[39mframe\u001b[39m\u001b[39m'\u001b[39m\u001b[39m argument should be either a Series or a DataFrame\u001b[39m\u001b[39m\"\u001b[39m\n\u001b[1;32m    839\u001b[0m     )\n\u001b[0;32m--> 841\u001b[0m \u001b[39mwith\u001b[39;00m pandasSQL_builder(con, schema\u001b[39m=\u001b[39mschema, need_transaction\u001b[39m=\u001b[39m\u001b[39mTrue\u001b[39;00m) \u001b[39mas\u001b[39;00m pandas_sql:\n\u001b[1;32m    842\u001b[0m     \u001b[39mreturn\u001b[39;00m pandas_sql\u001b[39m.\u001b[39mto_sql(\n\u001b[1;32m    843\u001b[0m         frame,\n\u001b[1;32m    844\u001b[0m         name,\n\u001b[0;32m   (...)\u001b[0m\n\u001b[1;32m    853\u001b[0m         \u001b[39m*\u001b[39m\u001b[39m*\u001b[39mengine_kwargs,\n\u001b[1;32m    854\u001b[0m     )\n",
      "File \u001b[0;32m/Library/Frameworks/Python.framework/Versions/3.10/lib/python3.10/site-packages/pandas/io/sql.py:1645\u001b[0m, in \u001b[0;36mSQLDatabase.__exit__\u001b[0;34m(self, *args)\u001b[0m\n\u001b[1;32m   1643\u001b[0m \u001b[39mdef\u001b[39;00m \u001b[39m__exit__\u001b[39m(\u001b[39mself\u001b[39m, \u001b[39m*\u001b[39margs) \u001b[39m-\u001b[39m\u001b[39m>\u001b[39m \u001b[39mNone\u001b[39;00m:\n\u001b[1;32m   1644\u001b[0m     \u001b[39mif\u001b[39;00m \u001b[39mnot\u001b[39;00m \u001b[39mself\u001b[39m\u001b[39m.\u001b[39mreturns_generator:\n\u001b[0;32m-> 1645\u001b[0m         \u001b[39mself\u001b[39;49m\u001b[39m.\u001b[39;49mexit_stack\u001b[39m.\u001b[39;49mclose()\n",
      "File \u001b[0;32m/Library/Frameworks/Python.framework/Versions/3.10/lib/python3.10/contextlib.py:584\u001b[0m, in \u001b[0;36mExitStack.close\u001b[0;34m(self)\u001b[0m\n\u001b[1;32m    582\u001b[0m \u001b[39mdef\u001b[39;00m \u001b[39mclose\u001b[39m(\u001b[39mself\u001b[39m):\n\u001b[1;32m    583\u001b[0m \u001b[39m    \u001b[39m\u001b[39m\"\"\"Immediately unwind the context stack.\"\"\"\u001b[39;00m\n\u001b[0;32m--> 584\u001b[0m     \u001b[39mself\u001b[39;49m\u001b[39m.\u001b[39;49m\u001b[39m__exit__\u001b[39;49m(\u001b[39mNone\u001b[39;49;00m, \u001b[39mNone\u001b[39;49;00m, \u001b[39mNone\u001b[39;49;00m)\n",
      "File \u001b[0;32m/Library/Frameworks/Python.framework/Versions/3.10/lib/python3.10/contextlib.py:576\u001b[0m, in \u001b[0;36mExitStack.__exit__\u001b[0;34m(self, *exc_details)\u001b[0m\n\u001b[1;32m    572\u001b[0m \u001b[39mtry\u001b[39;00m:\n\u001b[1;32m    573\u001b[0m     \u001b[39m# bare \"raise exc_details[1]\" replaces our carefully\u001b[39;00m\n\u001b[1;32m    574\u001b[0m     \u001b[39m# set-up context\u001b[39;00m\n\u001b[1;32m    575\u001b[0m     fixed_ctx \u001b[39m=\u001b[39m exc_details[\u001b[39m1\u001b[39m]\u001b[39m.\u001b[39m__context__\n\u001b[0;32m--> 576\u001b[0m     \u001b[39mraise\u001b[39;00m exc_details[\u001b[39m1\u001b[39m]\n\u001b[1;32m    577\u001b[0m \u001b[39mexcept\u001b[39;00m \u001b[39mBaseException\u001b[39;00m:\n\u001b[1;32m    578\u001b[0m     exc_details[\u001b[39m1\u001b[39m]\u001b[39m.\u001b[39m__context__ \u001b[39m=\u001b[39m fixed_ctx\n",
      "File \u001b[0;32m/Library/Frameworks/Python.framework/Versions/3.10/lib/python3.10/contextlib.py:561\u001b[0m, in \u001b[0;36mExitStack.__exit__\u001b[0;34m(self, *exc_details)\u001b[0m\n\u001b[1;32m    559\u001b[0m \u001b[39massert\u001b[39;00m is_sync\n\u001b[1;32m    560\u001b[0m \u001b[39mtry\u001b[39;00m:\n\u001b[0;32m--> 561\u001b[0m     \u001b[39mif\u001b[39;00m cb(\u001b[39m*\u001b[39;49mexc_details):\n\u001b[1;32m    562\u001b[0m         suppressed_exc \u001b[39m=\u001b[39m \u001b[39mTrue\u001b[39;00m\n\u001b[1;32m    563\u001b[0m         pending_raise \u001b[39m=\u001b[39m \u001b[39mFalse\u001b[39;00m\n",
      "File \u001b[0;32m/Library/Frameworks/Python.framework/Versions/3.10/lib/python3.10/site-packages/sqlalchemy/engine/util.py:147\u001b[0m, in \u001b[0;36mTransactionalContext.__exit__\u001b[0;34m(self, type_, value, traceback)\u001b[0m\n\u001b[1;32m    145\u001b[0m     \u001b[39mself\u001b[39m\u001b[39m.\u001b[39mcommit()\n\u001b[1;32m    146\u001b[0m \u001b[39mexcept\u001b[39;00m:\n\u001b[0;32m--> 147\u001b[0m     \u001b[39mwith\u001b[39;00m util\u001b[39m.\u001b[39msafe_reraise():\n\u001b[1;32m    148\u001b[0m         \u001b[39mif\u001b[39;00m \u001b[39mself\u001b[39m\u001b[39m.\u001b[39m_rollback_can_be_called():\n\u001b[1;32m    149\u001b[0m             \u001b[39mself\u001b[39m\u001b[39m.\u001b[39mrollback()\n",
      "File \u001b[0;32m/Library/Frameworks/Python.framework/Versions/3.10/lib/python3.10/site-packages/sqlalchemy/util/langhelpers.py:146\u001b[0m, in \u001b[0;36msafe_reraise.__exit__\u001b[0;34m(self, type_, value, traceback)\u001b[0m\n\u001b[1;32m    144\u001b[0m     \u001b[39massert\u001b[39;00m exc_value \u001b[39mis\u001b[39;00m \u001b[39mnot\u001b[39;00m \u001b[39mNone\u001b[39;00m\n\u001b[1;32m    145\u001b[0m     \u001b[39mself\u001b[39m\u001b[39m.\u001b[39m_exc_info \u001b[39m=\u001b[39m \u001b[39mNone\u001b[39;00m  \u001b[39m# remove potential circular references\u001b[39;00m\n\u001b[0;32m--> 146\u001b[0m     \u001b[39mraise\u001b[39;00m exc_value\u001b[39m.\u001b[39mwith_traceback(exc_tb)\n\u001b[1;32m    147\u001b[0m \u001b[39melse\u001b[39;00m:\n\u001b[1;32m    148\u001b[0m     \u001b[39mself\u001b[39m\u001b[39m.\u001b[39m_exc_info \u001b[39m=\u001b[39m \u001b[39mNone\u001b[39;00m  \u001b[39m# remove potential circular references\u001b[39;00m\n",
      "File \u001b[0;32m/Library/Frameworks/Python.framework/Versions/3.10/lib/python3.10/site-packages/sqlalchemy/engine/util.py:145\u001b[0m, in \u001b[0;36mTransactionalContext.__exit__\u001b[0;34m(self, type_, value, traceback)\u001b[0m\n\u001b[1;32m    143\u001b[0m \u001b[39mif\u001b[39;00m type_ \u001b[39mis\u001b[39;00m \u001b[39mNone\u001b[39;00m \u001b[39mand\u001b[39;00m \u001b[39mself\u001b[39m\u001b[39m.\u001b[39m_transaction_is_active():\n\u001b[1;32m    144\u001b[0m     \u001b[39mtry\u001b[39;00m:\n\u001b[0;32m--> 145\u001b[0m         \u001b[39mself\u001b[39;49m\u001b[39m.\u001b[39;49mcommit()\n\u001b[1;32m    146\u001b[0m     \u001b[39mexcept\u001b[39;00m:\n\u001b[1;32m    147\u001b[0m         \u001b[39mwith\u001b[39;00m util\u001b[39m.\u001b[39msafe_reraise():\n",
      "File \u001b[0;32m/Library/Frameworks/Python.framework/Versions/3.10/lib/python3.10/site-packages/sqlalchemy/engine/base.py:2631\u001b[0m, in \u001b[0;36mTransaction.commit\u001b[0;34m(self)\u001b[0m\n\u001b[1;32m   2615\u001b[0m \u001b[39m\u001b[39m\u001b[39m\"\"\"Commit this :class:`.Transaction`.\u001b[39;00m\n\u001b[1;32m   2616\u001b[0m \n\u001b[1;32m   2617\u001b[0m \u001b[39mThe implementation of this may vary based on the type of transaction in\u001b[39;00m\n\u001b[0;32m   (...)\u001b[0m\n\u001b[1;32m   2628\u001b[0m \n\u001b[1;32m   2629\u001b[0m \u001b[39m\"\"\"\u001b[39;00m\n\u001b[1;32m   2630\u001b[0m \u001b[39mtry\u001b[39;00m:\n\u001b[0;32m-> 2631\u001b[0m     \u001b[39mself\u001b[39;49m\u001b[39m.\u001b[39;49m_do_commit()\n\u001b[1;32m   2632\u001b[0m \u001b[39mfinally\u001b[39;00m:\n\u001b[1;32m   2633\u001b[0m     \u001b[39massert\u001b[39;00m \u001b[39mnot\u001b[39;00m \u001b[39mself\u001b[39m\u001b[39m.\u001b[39mis_active\n",
      "File \u001b[0;32m/Library/Frameworks/Python.framework/Versions/3.10/lib/python3.10/site-packages/sqlalchemy/engine/base.py:2736\u001b[0m, in \u001b[0;36mRootTransaction._do_commit\u001b[0;34m(self)\u001b[0m\n\u001b[1;32m   2733\u001b[0m \u001b[39massert\u001b[39;00m \u001b[39mself\u001b[39m\u001b[39m.\u001b[39mconnection\u001b[39m.\u001b[39m_transaction \u001b[39mis\u001b[39;00m \u001b[39mself\u001b[39m\n\u001b[1;32m   2735\u001b[0m \u001b[39mtry\u001b[39;00m:\n\u001b[0;32m-> 2736\u001b[0m     \u001b[39mself\u001b[39;49m\u001b[39m.\u001b[39;49m_connection_commit_impl()\n\u001b[1;32m   2737\u001b[0m \u001b[39mfinally\u001b[39;00m:\n\u001b[1;32m   2738\u001b[0m     \u001b[39m# whether or not commit succeeds, cancel any\u001b[39;00m\n\u001b[1;32m   2739\u001b[0m     \u001b[39m# nested transactions, make this transaction \"inactive\"\u001b[39;00m\n\u001b[1;32m   2740\u001b[0m     \u001b[39m# and remove it as a reset agent\u001b[39;00m\n\u001b[1;32m   2741\u001b[0m     \u001b[39mif\u001b[39;00m \u001b[39mself\u001b[39m\u001b[39m.\u001b[39mconnection\u001b[39m.\u001b[39m_nested_transaction:\n",
      "File \u001b[0;32m/Library/Frameworks/Python.framework/Versions/3.10/lib/python3.10/site-packages/sqlalchemy/engine/base.py:2707\u001b[0m, in \u001b[0;36mRootTransaction._connection_commit_impl\u001b[0;34m(self)\u001b[0m\n\u001b[1;32m   2706\u001b[0m \u001b[39mdef\u001b[39;00m \u001b[39m_connection_commit_impl\u001b[39m(\u001b[39mself\u001b[39m) \u001b[39m-\u001b[39m\u001b[39m>\u001b[39m \u001b[39mNone\u001b[39;00m:\n\u001b[0;32m-> 2707\u001b[0m     \u001b[39mself\u001b[39;49m\u001b[39m.\u001b[39;49mconnection\u001b[39m.\u001b[39;49m_commit_impl()\n",
      "File \u001b[0;32m/Library/Frameworks/Python.framework/Versions/3.10/lib/python3.10/site-packages/sqlalchemy/engine/base.py:1146\u001b[0m, in \u001b[0;36mConnection._commit_impl\u001b[0;34m(self)\u001b[0m\n\u001b[1;32m   1144\u001b[0m     \u001b[39mself\u001b[39m\u001b[39m.\u001b[39mengine\u001b[39m.\u001b[39mdialect\u001b[39m.\u001b[39mdo_commit(\u001b[39mself\u001b[39m\u001b[39m.\u001b[39mconnection)\n\u001b[1;32m   1145\u001b[0m \u001b[39mexcept\u001b[39;00m \u001b[39mBaseException\u001b[39;00m \u001b[39mas\u001b[39;00m e:\n\u001b[0;32m-> 1146\u001b[0m     \u001b[39mself\u001b[39;49m\u001b[39m.\u001b[39;49m_handle_dbapi_exception(e, \u001b[39mNone\u001b[39;49;00m, \u001b[39mNone\u001b[39;49;00m, \u001b[39mNone\u001b[39;49;00m, \u001b[39mNone\u001b[39;49;00m)\n",
      "File \u001b[0;32m/Library/Frameworks/Python.framework/Versions/3.10/lib/python3.10/site-packages/sqlalchemy/engine/base.py:2358\u001b[0m, in \u001b[0;36mConnection._handle_dbapi_exception\u001b[0;34m(self, e, statement, parameters, cursor, context, is_sub_exec)\u001b[0m\n\u001b[1;32m   2356\u001b[0m     \u001b[39melse\u001b[39;00m:\n\u001b[1;32m   2357\u001b[0m         \u001b[39massert\u001b[39;00m exc_info[\u001b[39m1\u001b[39m] \u001b[39mis\u001b[39;00m \u001b[39mnot\u001b[39;00m \u001b[39mNone\u001b[39;00m\n\u001b[0;32m-> 2358\u001b[0m         \u001b[39mraise\u001b[39;00m exc_info[\u001b[39m1\u001b[39m]\u001b[39m.\u001b[39mwith_traceback(exc_info[\u001b[39m2\u001b[39m])\n\u001b[1;32m   2359\u001b[0m \u001b[39mfinally\u001b[39;00m:\n\u001b[1;32m   2360\u001b[0m     \u001b[39mdel\u001b[39;00m \u001b[39mself\u001b[39m\u001b[39m.\u001b[39m_reentrant_error\n",
      "File \u001b[0;32m/Library/Frameworks/Python.framework/Versions/3.10/lib/python3.10/site-packages/sqlalchemy/engine/base.py:1144\u001b[0m, in \u001b[0;36mConnection._commit_impl\u001b[0;34m(self)\u001b[0m\n\u001b[1;32m   1142\u001b[0m         \u001b[39mself\u001b[39m\u001b[39m.\u001b[39m_log_info(\u001b[39m\"\u001b[39m\u001b[39mCOMMIT\u001b[39m\u001b[39m\"\u001b[39m)\n\u001b[1;32m   1143\u001b[0m \u001b[39mtry\u001b[39;00m:\n\u001b[0;32m-> 1144\u001b[0m     \u001b[39mself\u001b[39;49m\u001b[39m.\u001b[39;49mengine\u001b[39m.\u001b[39;49mdialect\u001b[39m.\u001b[39;49mdo_commit(\u001b[39mself\u001b[39;49m\u001b[39m.\u001b[39;49mconnection)\n\u001b[1;32m   1145\u001b[0m \u001b[39mexcept\u001b[39;00m \u001b[39mBaseException\u001b[39;00m \u001b[39mas\u001b[39;00m e:\n\u001b[1;32m   1146\u001b[0m     \u001b[39mself\u001b[39m\u001b[39m.\u001b[39m_handle_dbapi_exception(e, \u001b[39mNone\u001b[39;00m, \u001b[39mNone\u001b[39;00m, \u001b[39mNone\u001b[39;00m, \u001b[39mNone\u001b[39;00m)\n",
      "File \u001b[0;32m/Library/Frameworks/Python.framework/Versions/3.10/lib/python3.10/site-packages/sqlalchemy/engine/default.py:702\u001b[0m, in \u001b[0;36mDefaultDialect.do_commit\u001b[0;34m(self, dbapi_connection)\u001b[0m\n\u001b[1;32m    701\u001b[0m \u001b[39mdef\u001b[39;00m \u001b[39mdo_commit\u001b[39m(\u001b[39mself\u001b[39m, dbapi_connection):\n\u001b[0;32m--> 702\u001b[0m     dbapi_connection\u001b[39m.\u001b[39;49mcommit()\n",
      "\u001b[0;31mKeyboardInterrupt\u001b[0m: "
     ]
    }
   ],
   "source": [
    "def processupload(date, engine):\n",
    "    data = getdata(date)\n",
    "    \n",
    "    if not data or 'dailySleepDTO' not in data or not data['dailySleepDTO']:\n",
    "        print(f\"Missing data for {date}\")\n",
    "        return None  \n",
    "\n",
    "    \n",
    "    df_general = getgeneral(data)\n",
    "    df_sleep_levels = getLevels(data)\n",
    "    df_sleep_HRV = getHRV(data)\n",
    "    df_sleep_BB = getbodybattery(data)\n",
    "    df_sleep_stress = getsleepstress(data)\n",
    "    df_sleephr = getsleepHR(data)\n",
    "    df_respiration = getrespiration(data)\n",
    "    df_spo2 = getspo2(data)\n",
    "\n",
    "    frames = {\n",
    "        \"sleep_general\": df_general,\n",
    "        \"sleep_levels\": df_sleep_levels,\n",
    "        \"sleep_hrv\": df_sleep_HRV,\n",
    "        \"sleep_BB\": df_sleep_BB,\n",
    "        \"sleep_stress\": df_sleep_stress,\n",
    "        \"sleep_hr\": df_sleephr,\n",
    "        \"sleep_respiration\": df_respiration,\n",
    "        \"sleep_spo2\": df_spo2\n",
    "    }\n",
    "\n",
    "    for df in frames.values():\n",
    "        for col in df.columns:\n",
    "            # Convert dict columns to JSON string\n",
    "            if df[col].apply(type).eq(dict).any():\n",
    "                df[col] = df[col].apply(json.dumps)\n",
    "\n",
    "    for table_name, df in frames.items():\n",
    "        df['calendarDate'] = date\n",
    "        df.to_sql(table_name, con=engine, if_exists=\"append\", index=False)\n",
    "        \n",
    "    return True\n",
    "\n",
    "\n",
    "def loopbackwards(start_date_str, engine, max_misses=7):\n",
    "    current_date = datetime.datetime.strptime(start_date_str, \"%Y-%m-%d\").date()\n",
    "    misses = 0\n",
    "\n",
    "    while misses < max_misses:\n",
    "        print(f\"Processing date: {current_date}\")\n",
    "        success = processupload(str(current_date), engine)\n",
    "\n",
    "        if success is None:\n",
    "            print(f\"No sleep data for {current_date}. Skipping.\")\n",
    "            misses += 1\n",
    "        else:\n",
    "            misses = 0  \n",
    "\n",
    "        current_date -= datetime.timedelta(days=1)\n",
    "    \n",
    "    print(\"Stopped after too many missing days.\")\n",
    "\n",
    "\n",
    "\n",
    "\n",
    "today = datetime.date.today().strftime(\"%Y-%m-%d\")\n",
    "loopbackwards(today, engine)\n"
   ]
  }
 ],
 "metadata": {
  "kernelspec": {
   "display_name": "Python 3.10.8 64-bit",
   "language": "python",
   "name": "python3"
  },
  "language_info": {
   "codemirror_mode": {
    "name": "ipython",
    "version": 3
   },
   "file_extension": ".py",
   "mimetype": "text/x-python",
   "name": "python",
   "nbconvert_exporter": "python",
   "pygments_lexer": "ipython3",
   "version": "3.10.8"
  },
  "orig_nbformat": 4,
  "vscode": {
   "interpreter": {
    "hash": "aee8b7b246df8f9039afb4144a1f6fd8d2ca17a180786b69acc140d282b71a49"
   }
  }
 },
 "nbformat": 4,
 "nbformat_minor": 2
}
