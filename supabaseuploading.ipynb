{
 "cells": [
  {
   "cell_type": "code",
   "execution_count": 22,
   "metadata": {},
   "outputs": [
    {
     "data": {
      "text/plain": [
       "True"
      ]
     },
     "execution_count": 22,
     "metadata": {},
     "output_type": "execute_result"
    }
   ],
   "source": [
    "import pandas as pd\n",
    "import numpy as np\n",
    "\n",
    "from sqlalchemy import create_engine, text\n",
    "from dotenv import load_dotenv\n",
    "import os\n",
    "load_dotenv()"
   ]
  },
  {
   "cell_type": "code",
   "execution_count": 23,
   "metadata": {},
   "outputs": [
    {
     "name": "stdout",
     "output_type": "stream",
     "text": [
      "✅ Connected to: PostgreSQL 17.4 on aarch64-unknown-linux-gnu, compiled by gcc (GCC) 13.2.0, 64-bit\n"
     ]
    }
   ],
   "source": [
    "user = os.getenv(\"user\")\n",
    "password = os.getenv(\"password\")\n",
    "host = os.getenv(\"host\")\n",
    "port = os.getenv(\"port\")\n",
    "dbname = os.getenv(\"dbname\")\n",
    "\n",
    "DATABASE_URL = f\"postgresql://{user}:{password}@{host}:{port}/{dbname}\"\n",
    "engine = create_engine(DATABASE_URL)\n",
    "\n",
    "try:\n",
    "    with engine.connect() as conn:\n",
    "        result = result = conn.execute(text(\"SELECT version();\"))\n",
    "        for row in result:\n",
    "            print(\"✅ Connected to:\", row[0])\n",
    "except Exception as e:\n",
    "    print(\"❌ Connection failed:\", e)"
   ]
  },
  {
   "cell_type": "code",
   "execution_count": 24,
   "metadata": {},
   "outputs": [
    {
     "data": {
      "text/plain": [
       "Metric\n",
       "WorkoutDate             datetime64[ns]\n",
       "Sleep Duration                  object\n",
       "Sleep Score                     object\n",
       "Quality                         object\n",
       "Stress Avg                      object\n",
       "Deep Sleep Duration             object\n",
       "Light Sleep Duration            object\n",
       "REM Duration                    object\n",
       "Awake Time                      object\n",
       "Restless Moments                object\n",
       "Resting Heart Rate              object\n",
       "Body Battery Change             object\n",
       "Avg SpO₂                        object\n",
       "Lowest SpO2                     object\n",
       "Avg Respiration                 object\n",
       "Lowest Respiration              object\n",
       "Avg Overnight HRV               object\n",
       "7d Avg HRV                      object\n",
       "dtype: object"
      ]
     },
     "execution_count": 24,
     "metadata": {},
     "output_type": "execute_result"
    }
   ],
   "source": [
    "import glob\n",
    "file_paths = glob.glob(\"data/*.csv\")\n",
    "frames = []\n",
    "count = 0\n",
    "for path in file_paths:\n",
    "    df_sleep = pd.read_csv(path, header=None, names=[\"Metric\", \"Value\"])\n",
    "    df_sleep = df_sleep.set_index(\"Metric\").T\n",
    "    date = df_sleep.loc[\"Value\", \"Date\"]\n",
    "    df_sleep.index = pd.to_datetime([date])\n",
    "    df_sleep = df_sleep.loc[:, ~df_sleep.columns.duplicated()]\n",
    "\n",
    "    df_sleep = df_sleep.drop(\n",
    "        columns=[\n",
    "            'Date',\n",
    "            'Sleep Score 1 Day',\n",
    "            'Sleep Score Factors',\n",
    "            'Sleep Timeline Metrics',\n",
    "            'Total Sleep Duration',\n",
    "            'Sleep 1 Day'], errors='ignore'\n",
    "        )\n",
    "  \n",
    "    frames.append(df_sleep)\n",
    "\n",
    "df = pd.concat(frames, axis=0).reset_index()\n",
    "df = df.rename(columns={'index': 'WorkoutDate'})\n",
    "    \n",
    "df.dtypes"
   ]
  },
  {
   "cell_type": "code",
   "execution_count": 25,
   "metadata": {},
   "outputs": [
    {
     "name": "stdout",
     "output_type": "stream",
     "text": [
      "Metric\n",
      "WorkoutDate             datetime64[ns]\n",
      "Sleep Duration                  object\n",
      "Sleep Score                      int64\n",
      "Quality                       category\n",
      "Stress Avg                     float64\n",
      "Deep Sleep Duration             object\n",
      "Light Sleep Duration            object\n",
      "REM Duration                    object\n",
      "Awake Time                      object\n",
      "Restless Moments               float64\n",
      "Resting Heart Rate               int64\n",
      "Body Battery Change            float64\n",
      "Avg SpO₂                       float64\n",
      "Lowest SpO2                    float64\n",
      "Avg Respiration                  int64\n",
      "Lowest Respiration               int64\n",
      "Avg Overnight HRV              float64\n",
      "7d Avg HRV                    category\n",
      "dtype: object\n"
     ]
    }
   ],
   "source": [
    "import re\n",
    "\n",
    "def parse_duration(s):\n",
    "    \"\"\"“7h 55m” → Timedelta('0 days 07:55:00'), “13m” → Timedelta('0 days 00:13:00')\"\"\"\n",
    "    if pd.isna(s):\n",
    "        return pd.NaT\n",
    "    hrs = re.search(r'(\\d+)\\s*h', s)\n",
    "    mins = re.search(r'(\\d+)\\s*m', s)\n",
    "    h = int(hrs.group(1)) if hrs else 0\n",
    "    m = int(mins.group(1)) if mins else 0\n",
    "    return pd.Timedelta(hours=h, minutes=m)\n",
    "\n",
    "def parse_int(s):\n",
    "    \"\"\"Strip non-digits (and leading “+”/“–”), return nullable Int64\"\"\"\n",
    "    if pd.isna(s):\n",
    "        return pd.NA\n",
    "    num = re.sub(r'[^\\d\\-+]', '', str(s))\n",
    "    return pd.to_numeric(num, errors='coerce')\n",
    "\n",
    "def parse_pct(s):\n",
    "    \"\"\"“95%” → 95 (Int64)\"\"\"\n",
    "    if pd.isna(s):\n",
    "        return pd.NA\n",
    "    return pd.to_numeric(str(s).rstrip('%'), errors='coerce')\n",
    "\n",
    "# 3) Apply conversions\n",
    "\n",
    "# Durations → Timedelta\n",
    "for col in [\n",
    "    'Sleep Duration',\n",
    "    'Deep Sleep Duration',\n",
    "    'Light Sleep Duration',\n",
    "    'REM Duration',\n",
    "    'Awake Time',\n",
    "    \n",
    "]:\n",
    "    df[col] = df[col].apply(parse_duration)\n",
    "    df[col] = df[col].apply(\n",
    "        lambda x: str(x).split(\".\")[0] if pd.notnull(x) else None\n",
    "    )   \n",
    "\n",
    "# Simple integers\n",
    "for col in [\n",
    "    'Sleep Score',\n",
    "    'Stress Avg',\n",
    "    'Restless Moments'\n",
    "]:\n",
    "    df[col] = df[col].apply(parse_int)\n",
    "\n",
    "# Heart rates, respiration, HRV, battery change\n",
    "for col in [\n",
    "    'Resting Heart Rate',      # e.g. “50 bpm”\n",
    "    'Avg Respiration',         # e.g. “14 brpm”\n",
    "    'Lowest Respiration',      # e.g. “12 brpm”\n",
    "    'Avg Overnight HRV',       # e.g. “82 ms”\n",
    "    'Body Battery Change'      # e.g. “+79”\n",
    "]:\n",
    "    df[col] = df[col].apply(parse_int)\n",
    "\n",
    "# Percentages\n",
    "df['Avg SpO₂']    = df['Avg SpO₂'].apply(parse_pct)\n",
    "df['Lowest SpO2'] = df['Lowest SpO2'].apply(parse_pct)\n",
    "\n",
    "# Categorical\n",
    "df['Quality']   = df['Quality'].astype('category')\n",
    "df['7d Avg HRV'] = df['7d Avg HRV'].astype('category')\n",
    "\n",
    "# 4) Check your result\n",
    "print(df.dtypes)\n"
   ]
  },
  {
   "cell_type": "code",
   "execution_count": 26,
   "metadata": {},
   "outputs": [],
   "source": [
    "df = df.rename(columns={\n",
    "    'WorkoutDate': 'workout_date',\n",
    "    'Sleep Duration': 'sleep_duration',\n",
    "    'Sleep Score': 'sleep_score',\n",
    "    'Quality': 'quality',\n",
    "    'Stress Avg': 'stress_avg',\n",
    "    'Deep Sleep Duration': 'deep_sleep_duration',\n",
    "    'Light Sleep Duration': 'light_sleep_duration',\n",
    "    'REM Duration': 'rem_duration',\n",
    "    'Awake Time': 'awake_time',\n",
    "    'Restless Moments': 'restless_moments',\n",
    "    'Resting Heart Rate': 'resting_heart_rate',\n",
    "    'Body Battery Change': 'body_battery_change',\n",
    "    'Avg SpO₂': 'avg_spo2',\n",
    "    'Lowest SpO2': 'lowest_spo2',\n",
    "    'Avg Respiration': 'avg_respiration',\n",
    "    'Lowest Respiration': 'lowest_respiration',\n",
    "    'Avg Overnight HRV': 'avg_overnight_hrv',\n",
    "    '7d Avg HRV': 'avg_hrv_7d'\n",
    "})"
   ]
  },
  {
   "cell_type": "code",
   "execution_count": 27,
   "metadata": {},
   "outputs": [
    {
     "name": "stdout",
     "output_type": "stream",
     "text": [
      "✅ Data uploaded successfully.\n"
     ]
    }
   ],
   "source": [
    "df.to_sql(\"sleep_data\", con=engine, if_exists=\"append\", index=False)\n",
    "print(\"✅ Data uploaded successfully.\")"
   ]
  }
 ],
 "metadata": {
  "kernelspec": {
   "display_name": "Python 3.10.8 64-bit",
   "language": "python",
   "name": "python3"
  },
  "language_info": {
   "codemirror_mode": {
    "name": "ipython",
    "version": 3
   },
   "file_extension": ".py",
   "mimetype": "text/x-python",
   "name": "python",
   "nbconvert_exporter": "python",
   "pygments_lexer": "ipython3",
   "version": "3.10.8"
  },
  "orig_nbformat": 4,
  "vscode": {
   "interpreter": {
    "hash": "aee8b7b246df8f9039afb4144a1f6fd8d2ca17a180786b69acc140d282b71a49"
   }
  }
 },
 "nbformat": 4,
 "nbformat_minor": 2
}
