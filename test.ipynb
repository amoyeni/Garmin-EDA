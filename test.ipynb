{
 "cells": [
  {
   "cell_type": "code",
   "execution_count": 19,
   "metadata": {},
   "outputs": [
    {
     "data": {
      "text/plain": [
       "True"
      ]
     },
     "execution_count": 19,
     "metadata": {},
     "output_type": "execute_result"
    }
   ],
   "source": [
    "import garminconnect\n",
    "import pandas as pd\n",
    "import numpy as np\n",
    "import datetime\n",
    "from sqlalchemy import create_engine, text\n",
    "from dotenv import load_dotenv\n",
    "import os\n",
    "load_dotenv()"
   ]
  },
  {
   "cell_type": "code",
   "execution_count": 20,
   "metadata": {},
   "outputs": [
    {
     "data": {
      "text/plain": [
       "'5f3dc0bc-4916-4755-894b-cca99162502b'"
      ]
     },
     "execution_count": 20,
     "metadata": {},
     "output_type": "execute_result"
    }
   ],
   "source": [
    "email = os.getenv(\"email\")\n",
    "password = os.getenv(\"garminpassword\")\\\n",
    "\n",
    "garmin = garminconnect.Garmin(email, password)\n",
    "garmin.login()\n",
    "\n",
    "garmin.display_name"
   ]
  },
  {
   "cell_type": "markdown",
   "metadata": {},
   "source": [
    "**Export sleep movment data to timeseries table** "
   ]
  },
  {
   "cell_type": "code",
   "execution_count": 21,
   "metadata": {},
   "outputs": [
    {
     "name": "stdout",
     "output_type": "stream",
     "text": [
      "                          id  userProfilePK calendarDate  sleepTimeSeconds  \\\n",
      "totalDuration  1749687960000       80897268   2025-06-12             24660   \n",
      "stress         1749687960000       80897268   2025-06-12             24660   \n",
      "awakeCount     1749687960000       80897268   2025-06-12             24660   \n",
      "overall        1749687960000       80897268   2025-06-12             24660   \n",
      "remPercentage  1749687960000       80897268   2025-06-12             24660   \n",
      "\n",
      "               napTimeSeconds  sleepWindowConfirmed  \\\n",
      "totalDuration               0                  True   \n",
      "stress                      0                  True   \n",
      "awakeCount                  0                  True   \n",
      "overall                     0                  True   \n",
      "remPercentage               0                  True   \n",
      "\n",
      "              sleepWindowConfirmationType  sleepStartTimestampGMT  \\\n",
      "totalDuration    enhanced_confirmed_final           1749687960000   \n",
      "stress           enhanced_confirmed_final           1749687960000   \n",
      "awakeCount       enhanced_confirmed_final           1749687960000   \n",
      "overall          enhanced_confirmed_final           1749687960000   \n",
      "remPercentage    enhanced_confirmed_final           1749687960000   \n",
      "\n",
      "               sleepEndTimestampGMT  sleepStartTimestampLocal  ...  \\\n",
      "totalDuration         1749713640000             1749691560000  ...   \n",
      "stress                1749713640000             1749691560000  ...   \n",
      "awakeCount            1749713640000             1749691560000  ...   \n",
      "overall               1749713640000             1749691560000  ...   \n",
      "remPercentage         1749713640000             1749691560000  ...   \n",
      "\n",
      "               lowestRespirationValue highestRespirationValue awakeCount  \\\n",
      "totalDuration                    10.0                    20.0          1   \n",
      "stress                           10.0                    20.0          1   \n",
      "awakeCount                       10.0                    20.0          1   \n",
      "overall                          10.0                    20.0          1   \n",
      "remPercentage                    10.0                    20.0          1   \n",
      "\n",
      "              avgSleepStress ageGroup  sleepScoreFeedback  sleepScoreInsight  \\\n",
      "totalDuration           19.0    ADULT       POSITIVE_DEEP               NONE   \n",
      "stress                  19.0    ADULT       POSITIVE_DEEP               NONE   \n",
      "awakeCount              19.0    ADULT       POSITIVE_DEEP               NONE   \n",
      "overall                 19.0    ADULT       POSITIVE_DEEP               NONE   \n",
      "remPercentage           19.0    ADULT       POSITIVE_DEEP               NONE   \n",
      "\n",
      "               sleepScorePersonalizedInsight  \\\n",
      "totalDuration                  NOT_AVAILABLE   \n",
      "stress                         NOT_AVAILABLE   \n",
      "awakeCount                     NOT_AVAILABLE   \n",
      "overall                        NOT_AVAILABLE   \n",
      "remPercentage                  NOT_AVAILABLE   \n",
      "\n",
      "                                                     sleepScores  sleepVersion  \n",
      "totalDuration  {'qualifierKey': 'FAIR', 'optimalStart': 28800...             2  \n",
      "stress         {'qualifierKey': 'FAIR', 'optimalStart': 0.0, ...             2  \n",
      "awakeCount     {'qualifierKey': 'GOOD', 'optimalStart': 0.0, ...             2  \n",
      "overall                    {'value': 77, 'qualifierKey': 'FAIR'}             2  \n",
      "remPercentage  {'value': 14, 'qualifierKey': 'FAIR', 'optimal...             2  \n",
      "\n",
      "[5 rows x 38 columns]\n"
     ]
    }
   ],
   "source": [
    "import json\n",
    "date = '2025-06-12'\n",
    "\n",
    "def getdata(date):\n",
    "    return garmin.get_sleep_data(date)\n",
    "    \n",
    "\n",
    "def getgeneral(data):\n",
    "    general_sleep_data = data['dailySleepDTO']\n",
    "    df = pd.DataFrame(general_sleep_data)\n",
    "    return df\n",
    "\n",
    "data = getdata(date)\n",
    "df_general = getgeneral(data)\n",
    "\n",
    "print(df_general.head())"
   ]
  },
  {
   "cell_type": "code",
   "execution_count": 22,
   "metadata": {},
   "outputs": [
    {
     "name": "stdout",
     "output_type": "stream",
     "text": [
      "             startGMT              endGMT  activityLevel\n",
      "0 2025-06-11 23:26:00 2025-06-11 23:27:00       5.520759\n",
      "1 2025-06-11 23:27:00 2025-06-11 23:28:00       5.036847\n",
      "2 2025-06-11 23:28:00 2025-06-11 23:29:00       4.529466\n",
      "3 2025-06-11 23:29:00 2025-06-11 23:30:00       4.008012\n",
      "4 2025-06-11 23:30:00 2025-06-11 23:31:00       3.482673\n"
     ]
    }
   ],
   "source": [
    "def getsleepmovement(data):\n",
    "    sleep_movement_data = data['sleepMovement']\n",
    "    df = pd.DataFrame(sleep_movement_data)\n",
    "    df['startGMT'] = pd.to_datetime(df['startGMT'])\n",
    "    df['endGMT'] = pd.to_datetime(df['endGMT'])\n",
    "    return df\n",
    "\n",
    "df_sleep_movement = getsleepmovement(data)\n",
    "print(df_sleep_movement.head())"
   ]
  },
  {
   "cell_type": "markdown",
   "metadata": {},
   "source": [
    "**spo2 Data**"
   ]
  },
  {
   "cell_type": "code",
   "execution_count": 23,
   "metadata": {},
   "outputs": [
    {
     "name": "stdout",
     "output_type": "stream",
     "text": [
      "   userProfilePK      epochTimestamp    deviceId           calendarDate  \\\n",
      "0       80897268 2025-06-12 00:26:00  3339097678  2025-06-12T00:00:00.0   \n",
      "1       80897268 2025-06-12 00:27:00  3339097678  2025-06-12T00:00:00.0   \n",
      "2       80897268 2025-06-12 00:28:00  3339097678  2025-06-12T00:00:00.0   \n",
      "3       80897268 2025-06-12 00:29:00  3339097678  2025-06-12T00:00:00.0   \n",
      "4       80897268 2025-06-12 00:30:00  3339097678  2025-06-12T00:00:00.0   \n",
      "\n",
      "   epochDuration  spo2Reading  readingConfidence  \n",
      "0             60           95                 17  \n",
      "1             60           96                 14  \n",
      "2             60           96                 25  \n",
      "3             60           94                 19  \n",
      "4             60           94                  6  \n"
     ]
    }
   ],
   "source": [
    "def getspo2(data):\n",
    "    spo2_data = data['wellnessEpochSPO2DataDTOList']\n",
    "    df = pd.DataFrame(spo2_data)\n",
    "    df['epochTimestamp'] = pd.to_datetime(df['epochTimestamp'])\n",
    "    return df\n",
    "    \n",
    "df_spo2 = getspo2(data)\n",
    "print(df_spo2.head())"
   ]
  },
  {
   "cell_type": "code",
   "execution_count": 24,
   "metadata": {},
   "outputs": [
    {
     "name": "stdout",
     "output_type": "stream",
     "text": [
      "         startTimeGMT  respirationValue\n",
      "0 2025-06-12 00:26:00              13.0\n",
      "1 2025-06-12 00:26:00              13.0\n",
      "2 2025-06-12 00:28:00              13.0\n",
      "3 2025-06-12 00:30:00              13.0\n",
      "4 2025-06-12 00:32:00              13.0\n"
     ]
    }
   ],
   "source": [
    "def getrespiration(data):\n",
    "    respiration_data = data['wellnessEpochRespirationDataDTOList']\n",
    "    df = pd.DataFrame(respiration_data)\n",
    "    df['startTimeGMT'] = pd.to_datetime(df['startTimeGMT'], unit='ms')\n",
    "    return df\n",
    "\n",
    "df_respiration = getrespiration(data)\n",
    "print(df_respiration.head())"
   ]
  },
  {
   "cell_type": "code",
   "execution_count": 25,
   "metadata": {},
   "outputs": [
    {
     "name": "stdout",
     "output_type": "stream",
     "text": [
      "   value            startGMT\n",
      "0     82 2025-06-12 00:26:00\n",
      "1     82 2025-06-12 00:28:00\n",
      "2     79 2025-06-12 00:30:00\n",
      "3     76 2025-06-12 00:32:00\n",
      "4     78 2025-06-12 00:34:00\n"
     ]
    }
   ],
   "source": [
    "def getsleepHR(data):\n",
    "    sleephr_data = data['sleepHeartRate']\n",
    "    df = pd.DataFrame(sleephr_data)\n",
    "    df['startGMT'] = pd.to_datetime(df['startGMT'], unit='ms')\n",
    "    return df\n",
    "\n",
    "df_sleephr = getsleepHR(data)\n",
    "print(df_sleephr.head())"
   ]
  },
  {
   "cell_type": "code",
   "execution_count": 26,
   "metadata": {},
   "outputs": [
    {
     "name": "stdout",
     "output_type": "stream",
     "text": [
      "   value            startGMT\n",
      "0     80 2025-06-12 00:24:00\n",
      "1     70 2025-06-12 00:27:00\n",
      "2     52 2025-06-12 00:30:00\n",
      "3     46 2025-06-12 00:33:00\n",
      "4     24 2025-06-12 00:36:00\n"
     ]
    }
   ],
   "source": [
    "def getsleepstress(data):\n",
    "    sleep_stress_data = data['sleepStress']\n",
    "    df = pd.DataFrame(sleep_stress_data)\n",
    "    df['startGMT'] = pd.to_datetime(df['startGMT'], unit='ms')\n",
    "    return df\n",
    "\n",
    "df_sleep_stress = getsleepstress(data)\n",
    "print(df_sleep_stress.head())"
   ]
  },
  {
   "cell_type": "code",
   "execution_count": 27,
   "metadata": {},
   "outputs": [
    {
     "name": "stdout",
     "output_type": "stream",
     "text": [
      "     value            startGMT\n",
      "0       10 2025-06-12 00:24:00\n",
      "1       10 2025-06-12 00:27:00\n",
      "2       10 2025-06-12 00:30:00\n",
      "3       10 2025-06-12 00:33:00\n",
      "4       10 2025-06-12 00:36:00\n",
      "..     ...                 ...\n",
      "139     75 2025-06-12 07:21:00\n",
      "140     75 2025-06-12 07:24:00\n",
      "141     75 2025-06-12 07:27:00\n",
      "142     75 2025-06-12 07:30:00\n",
      "143     75 2025-06-12 07:33:00\n",
      "\n",
      "[144 rows x 2 columns]\n"
     ]
    }
   ],
   "source": [
    "def getbodybattery(data):\n",
    "    sleep_BB_data = data['sleepBodyBattery']\n",
    "    df = pd.DataFrame(sleep_BB_data)\n",
    "    df['startGMT'] = pd.to_datetime(df['startGMT'], unit='ms')\n",
    "    return df_sleep_BB\n",
    "\n",
    "df_sleep_BB = getbodybattery(data)\n",
    "print(df_sleep_BB)"
   ]
  },
  {
   "cell_type": "code",
   "execution_count": 28,
   "metadata": {},
   "outputs": [
    {
     "name": "stdout",
     "output_type": "stream",
     "text": [
      "    value            startGMT\n",
      "0    22.0 2025-06-12 00:26:14\n",
      "1    23.0 2025-06-12 00:31:14\n",
      "2    33.0 2025-06-12 00:36:14\n",
      "3    42.0 2025-06-12 00:41:14\n",
      "4    53.0 2025-06-12 00:46:14\n",
      "..    ...                 ...\n",
      "81   60.0 2025-06-12 07:11:14\n",
      "82   57.0 2025-06-12 07:16:14\n",
      "83   58.0 2025-06-12 07:21:14\n",
      "84   57.0 2025-06-12 07:26:14\n",
      "85   53.0 2025-06-12 07:31:14\n",
      "\n",
      "[86 rows x 2 columns]\n"
     ]
    }
   ],
   "source": [
    "def getHRV(data):\n",
    "    sleep_HRV_data = data['hrvData']\n",
    "    df = pd.DataFrame(sleep_HRV_data)\n",
    "    df['startGMT'] = pd.to_datetime(df['startGMT'], unit='ms')\n",
    "    return df\n",
    "\n",
    "df_sleep_HRV = getHRV(data)\n",
    "print(df_sleep_HRV)"
   ]
  },
  {
   "cell_type": "code",
   "execution_count": 29,
   "metadata": {},
   "outputs": [
    {
     "name": "stdout",
     "output_type": "stream",
     "text": [
      "              startGMT              endGMT  activityLevel\n",
      "0  2025-06-12 00:26:00 2025-06-12 00:50:00            1.0\n",
      "1  2025-06-12 00:50:00 2025-06-12 01:22:00            0.0\n",
      "2  2025-06-12 01:22:00 2025-06-12 01:35:00            1.0\n",
      "3  2025-06-12 01:35:00 2025-06-12 01:47:00            0.0\n",
      "4  2025-06-12 01:47:00 2025-06-12 02:02:00            1.0\n",
      "5  2025-06-12 02:02:00 2025-06-12 02:27:00            0.0\n",
      "6  2025-06-12 02:27:00 2025-06-12 02:39:00            1.0\n",
      "7  2025-06-12 02:39:00 2025-06-12 03:12:00            0.0\n",
      "8  2025-06-12 03:12:00 2025-06-12 04:03:00            1.0\n",
      "9  2025-06-12 04:03:00 2025-06-12 04:17:00            0.0\n",
      "10 2025-06-12 04:17:00 2025-06-12 04:29:00            1.0\n",
      "11 2025-06-12 04:29:00 2025-06-12 04:44:00            2.0\n",
      "12 2025-06-12 04:44:00 2025-06-12 05:15:00            1.0\n",
      "13 2025-06-12 05:15:00 2025-06-12 05:28:00            2.0\n",
      "14 2025-06-12 05:28:00 2025-06-12 05:55:00            1.0\n",
      "15 2025-06-12 05:55:00 2025-06-12 06:26:00            2.0\n",
      "16 2025-06-12 06:26:00 2025-06-12 06:43:00            3.0\n",
      "17 2025-06-12 06:43:00 2025-06-12 07:34:00            1.0\n"
     ]
    }
   ],
   "source": [
    "def getLevels(data):\n",
    "    sleep_levels_data = data['sleepLevels']\n",
    "    df = pd.DataFrame(sleep_levels_data)\n",
    "    df['startGMT'] = pd.to_datetime(df['startGMT'])\n",
    "    df['endGMT'] = pd.to_datetime(df['endGMT'])\n",
    "    return df\n",
    "\n",
    "df_sleep_levels = getLevels(data)\n",
    "print(df_sleep_levels)"
   ]
  },
  {
   "cell_type": "code",
   "execution_count": 30,
   "metadata": {},
   "outputs": [
    {
     "name": "stdout",
     "output_type": "stream",
     "text": [
      "✅ Connected to: PostgreSQL 17.4 on aarch64-unknown-linux-gnu, compiled by gcc (GCC) 13.2.0, 64-bit\n"
     ]
    }
   ],
   "source": [
    "user = os.getenv(\"user\")\n",
    "password = os.getenv(\"password\")\n",
    "host = os.getenv(\"host\")\n",
    "port = os.getenv(\"port\")\n",
    "dbname = os.getenv(\"dbname\")\n",
    "\n",
    "DATABASE_URL = f\"postgresql://{user}:{password}@{host}:{port}/{dbname}\"\n",
    "engine = create_engine(DATABASE_URL)\n",
    "\n",
    "try:\n",
    "    with engine.connect() as conn:\n",
    "        result = result = conn.execute(text(\"SELECT version();\"))\n",
    "        for row in result:\n",
    "            print(\"✅ Connected to:\", row[0])\n",
    "except Exception as e:\n",
    "    print(\"❌ Connection failed:\", e)"
   ]
  },
  {
   "cell_type": "code",
   "execution_count": 32,
   "metadata": {},
   "outputs": [
    {
     "name": "stdout",
     "output_type": "stream",
     "text": [
      "Processing date: 2025-06-16\n",
      "Processing date: 2025-06-15\n",
      "Processing date: 2025-06-14\n",
      "Processing date: 2025-06-13\n",
      "Processing date: 2025-06-12\n",
      "Processing date: 2025-06-11\n",
      "Processing date: 2025-06-10\n",
      "Processing date: 2025-06-09\n",
      "Processing date: 2025-06-08\n",
      "Processing date: 2025-06-07\n",
      "Processing date: 2025-06-06\n",
      "Processing date: 2025-06-05\n",
      "Processing date: 2025-06-04\n",
      "Processing date: 2025-06-03\n",
      "Processing date: 2025-06-02\n",
      "Processing date: 2025-06-01\n",
      "Processing date: 2025-05-31\n",
      "Processing date: 2025-05-30\n",
      "Processing date: 2025-05-29\n",
      "Processing date: 2025-05-28\n",
      "Processing date: 2025-05-27\n",
      "Processing date: 2025-05-26\n",
      "Processing date: 2025-05-25\n",
      "Processing date: 2025-05-24\n",
      "Processing date: 2025-05-23\n",
      "Processing date: 2025-05-22\n",
      "Processing date: 2025-05-21\n",
      "Processing date: 2025-05-20\n",
      "Processing date: 2025-05-19\n",
      "Processing date: 2025-05-18\n",
      "Processing date: 2025-05-17\n",
      "Processing date: 2025-05-16\n",
      "Processing date: 2025-05-15\n",
      "Processing date: 2025-05-14\n",
      "Processing date: 2025-05-13\n",
      "Processing date: 2025-05-12\n",
      "Processing date: 2025-05-11\n",
      "Processing date: 2025-05-10\n",
      "Processing date: 2025-05-09\n",
      "Processing date: 2025-05-08\n",
      "Processing date: 2025-05-07\n",
      "Processing date: 2025-05-06\n",
      "Processing date: 2025-05-05\n",
      "Processing date: 2025-05-04\n",
      "Processing date: 2025-05-03\n"
     ]
    },
    {
     "ename": "ValueError",
     "evalue": "If using all scalar values, you must pass an index",
     "output_type": "error",
     "traceback": [
      "\u001b[0;31m---------------------------------------------------------------------------\u001b[0m",
      "\u001b[0;31mValueError\u001b[0m                                Traceback (most recent call last)",
      "Cell \u001b[0;32mIn[32], line 54\u001b[0m\n\u001b[1;32m     50\u001b[0m         current_date \u001b[39m-\u001b[39m\u001b[39m=\u001b[39m datetime\u001b[39m.\u001b[39mtimedelta(days\u001b[39m=\u001b[39m\u001b[39m1\u001b[39m)\n\u001b[1;32m     53\u001b[0m today \u001b[39m=\u001b[39m datetime\u001b[39m.\u001b[39mdate\u001b[39m.\u001b[39mtoday()\u001b[39m.\u001b[39mstrftime(\u001b[39m\"\u001b[39m\u001b[39m%\u001b[39m\u001b[39mY-\u001b[39m\u001b[39m%\u001b[39m\u001b[39mm-\u001b[39m\u001b[39m%d\u001b[39;00m\u001b[39m\"\u001b[39m)\n\u001b[0;32m---> 54\u001b[0m loopbackwards(today, engine)\n",
      "Cell \u001b[0;32mIn[32], line 45\u001b[0m, in \u001b[0;36mloopbackwards\u001b[0;34m(start_date_str, engine)\u001b[0m\n\u001b[1;32m     43\u001b[0m \u001b[39mwhile\u001b[39;00m \u001b[39mTrue\u001b[39;00m:\n\u001b[1;32m     44\u001b[0m     \u001b[39mprint\u001b[39m(\u001b[39mf\u001b[39m\u001b[39m\"\u001b[39m\u001b[39mProcessing date: \u001b[39m\u001b[39m{\u001b[39;00mcurrent_date\u001b[39m}\u001b[39;00m\u001b[39m\"\u001b[39m)\n\u001b[0;32m---> 45\u001b[0m     success \u001b[39m=\u001b[39m processupload(\u001b[39mstr\u001b[39;49m(current_date), engine)\n\u001b[1;32m     46\u001b[0m     \u001b[39mif\u001b[39;00m \u001b[39mnot\u001b[39;00m success:\n\u001b[1;32m     47\u001b[0m         \u001b[39mprint\u001b[39m(\u001b[39mf\u001b[39m\u001b[39m\"\u001b[39m\u001b[39mNo more data found for date \u001b[39m\u001b[39m{\u001b[39;00mcurrent_date\u001b[39m}\u001b[39;00m\u001b[39m. Stopping.\u001b[39m\u001b[39m\"\u001b[39m)\n",
      "Cell \u001b[0;32mIn[32], line 7\u001b[0m, in \u001b[0;36mprocessupload\u001b[0;34m(date, engine)\u001b[0m\n\u001b[1;32m      4\u001b[0m \u001b[39mif\u001b[39;00m \u001b[39mnot\u001b[39;00m data \u001b[39mor\u001b[39;00m \u001b[39m'\u001b[39m\u001b[39mdailySleepDTO\u001b[39m\u001b[39m'\u001b[39m \u001b[39mnot\u001b[39;00m \u001b[39min\u001b[39;00m data \u001b[39mor\u001b[39;00m \u001b[39mnot\u001b[39;00m data[\u001b[39m'\u001b[39m\u001b[39mdailySleepDTO\u001b[39m\u001b[39m'\u001b[39m]:\n\u001b[1;32m      5\u001b[0m     \u001b[39mreturn\u001b[39;00m \u001b[39mFalse\u001b[39;00m\n\u001b[0;32m----> 7\u001b[0m df_general \u001b[39m=\u001b[39m getgeneral(data)\n\u001b[1;32m      8\u001b[0m df_sleep_levels \u001b[39m=\u001b[39m getLevels(data)\n\u001b[1;32m      9\u001b[0m df_sleep_HRV \u001b[39m=\u001b[39m getHRV(data)\n",
      "Cell \u001b[0;32mIn[21], line 10\u001b[0m, in \u001b[0;36mgetgeneral\u001b[0;34m(data)\u001b[0m\n\u001b[1;32m      8\u001b[0m \u001b[39mdef\u001b[39;00m \u001b[39mgetgeneral\u001b[39m(data):\n\u001b[1;32m      9\u001b[0m     general_sleep_data \u001b[39m=\u001b[39m data[\u001b[39m'\u001b[39m\u001b[39mdailySleepDTO\u001b[39m\u001b[39m'\u001b[39m]\n\u001b[0;32m---> 10\u001b[0m     df \u001b[39m=\u001b[39m pd\u001b[39m.\u001b[39;49mDataFrame(general_sleep_data)\n\u001b[1;32m     11\u001b[0m     \u001b[39mreturn\u001b[39;00m df\n",
      "File \u001b[0;32m/Library/Frameworks/Python.framework/Versions/3.10/lib/python3.10/site-packages/pandas/core/frame.py:778\u001b[0m, in \u001b[0;36mDataFrame.__init__\u001b[0;34m(self, data, index, columns, dtype, copy)\u001b[0m\n\u001b[1;32m    772\u001b[0m     mgr \u001b[39m=\u001b[39m \u001b[39mself\u001b[39m\u001b[39m.\u001b[39m_init_mgr(\n\u001b[1;32m    773\u001b[0m         data, axes\u001b[39m=\u001b[39m{\u001b[39m\"\u001b[39m\u001b[39mindex\u001b[39m\u001b[39m\"\u001b[39m: index, \u001b[39m\"\u001b[39m\u001b[39mcolumns\u001b[39m\u001b[39m\"\u001b[39m: columns}, dtype\u001b[39m=\u001b[39mdtype, copy\u001b[39m=\u001b[39mcopy\n\u001b[1;32m    774\u001b[0m     )\n\u001b[1;32m    776\u001b[0m \u001b[39melif\u001b[39;00m \u001b[39misinstance\u001b[39m(data, \u001b[39mdict\u001b[39m):\n\u001b[1;32m    777\u001b[0m     \u001b[39m# GH#38939 de facto copy defaults to False only in non-dict cases\u001b[39;00m\n\u001b[0;32m--> 778\u001b[0m     mgr \u001b[39m=\u001b[39m dict_to_mgr(data, index, columns, dtype\u001b[39m=\u001b[39;49mdtype, copy\u001b[39m=\u001b[39;49mcopy, typ\u001b[39m=\u001b[39;49mmanager)\n\u001b[1;32m    779\u001b[0m \u001b[39melif\u001b[39;00m \u001b[39misinstance\u001b[39m(data, ma\u001b[39m.\u001b[39mMaskedArray):\n\u001b[1;32m    780\u001b[0m     \u001b[39mfrom\u001b[39;00m \u001b[39mnumpy\u001b[39;00m\u001b[39m.\u001b[39;00m\u001b[39mma\u001b[39;00m \u001b[39mimport\u001b[39;00m mrecords\n",
      "File \u001b[0;32m/Library/Frameworks/Python.framework/Versions/3.10/lib/python3.10/site-packages/pandas/core/internals/construction.py:503\u001b[0m, in \u001b[0;36mdict_to_mgr\u001b[0;34m(data, index, columns, dtype, typ, copy)\u001b[0m\n\u001b[1;32m    499\u001b[0m     \u001b[39melse\u001b[39;00m:\n\u001b[1;32m    500\u001b[0m         \u001b[39m# dtype check to exclude e.g. range objects, scalars\u001b[39;00m\n\u001b[1;32m    501\u001b[0m         arrays \u001b[39m=\u001b[39m [x\u001b[39m.\u001b[39mcopy() \u001b[39mif\u001b[39;00m \u001b[39mhasattr\u001b[39m(x, \u001b[39m\"\u001b[39m\u001b[39mdtype\u001b[39m\u001b[39m\"\u001b[39m) \u001b[39melse\u001b[39;00m x \u001b[39mfor\u001b[39;00m x \u001b[39min\u001b[39;00m arrays]\n\u001b[0;32m--> 503\u001b[0m \u001b[39mreturn\u001b[39;00m arrays_to_mgr(arrays, columns, index, dtype\u001b[39m=\u001b[39;49mdtype, typ\u001b[39m=\u001b[39;49mtyp, consolidate\u001b[39m=\u001b[39;49mcopy)\n",
      "File \u001b[0;32m/Library/Frameworks/Python.framework/Versions/3.10/lib/python3.10/site-packages/pandas/core/internals/construction.py:114\u001b[0m, in \u001b[0;36marrays_to_mgr\u001b[0;34m(arrays, columns, index, dtype, verify_integrity, typ, consolidate)\u001b[0m\n\u001b[1;32m    111\u001b[0m \u001b[39mif\u001b[39;00m verify_integrity:\n\u001b[1;32m    112\u001b[0m     \u001b[39m# figure out the index, if necessary\u001b[39;00m\n\u001b[1;32m    113\u001b[0m     \u001b[39mif\u001b[39;00m index \u001b[39mis\u001b[39;00m \u001b[39mNone\u001b[39;00m:\n\u001b[0;32m--> 114\u001b[0m         index \u001b[39m=\u001b[39m _extract_index(arrays)\n\u001b[1;32m    115\u001b[0m     \u001b[39melse\u001b[39;00m:\n\u001b[1;32m    116\u001b[0m         index \u001b[39m=\u001b[39m ensure_index(index)\n",
      "File \u001b[0;32m/Library/Frameworks/Python.framework/Versions/3.10/lib/python3.10/site-packages/pandas/core/internals/construction.py:667\u001b[0m, in \u001b[0;36m_extract_index\u001b[0;34m(data)\u001b[0m\n\u001b[1;32m    664\u001b[0m         \u001b[39mraise\u001b[39;00m \u001b[39mValueError\u001b[39;00m(\u001b[39m\"\u001b[39m\u001b[39mPer-column arrays must each be 1-dimensional\u001b[39m\u001b[39m\"\u001b[39m)\n\u001b[1;32m    666\u001b[0m \u001b[39mif\u001b[39;00m \u001b[39mnot\u001b[39;00m indexes \u001b[39mand\u001b[39;00m \u001b[39mnot\u001b[39;00m raw_lengths:\n\u001b[0;32m--> 667\u001b[0m     \u001b[39mraise\u001b[39;00m \u001b[39mValueError\u001b[39;00m(\u001b[39m\"\u001b[39m\u001b[39mIf using all scalar values, you must pass an index\u001b[39m\u001b[39m\"\u001b[39m)\n\u001b[1;32m    669\u001b[0m \u001b[39mif\u001b[39;00m have_series:\n\u001b[1;32m    670\u001b[0m     index \u001b[39m=\u001b[39m union_indexes(indexes)\n",
      "\u001b[0;31mValueError\u001b[0m: If using all scalar values, you must pass an index"
     ]
    }
   ],
   "source": [
    "def processupload(date, engine):\n",
    "    data = getdata(date)\n",
    "    \n",
    "    if not data or 'dailySleepDTO' not in data or not data['dailySleepDTO']:\n",
    "        return False\n",
    "    \n",
    "    df_general = getgeneral(data)\n",
    "    df_sleep_levels = getLevels(data)\n",
    "    df_sleep_HRV = getHRV(data)\n",
    "    df_sleep_BB = getbodybattery(data)\n",
    "    df_sleep_stress = getsleepstress(data)\n",
    "    df_sleephr = getsleepHR(data)\n",
    "    df_respiration = getrespiration(data)\n",
    "    df_spo2 = getspo2(data)\n",
    "\n",
    "    frames = {\n",
    "        \"sleep_general\": df_general,\n",
    "        \"sleep_levels\": df_sleep_levels,\n",
    "        \"sleep_hrv\": df_sleep_HRV,\n",
    "        \"sleep_BB\": df_sleep_BB,\n",
    "        \"sleep_stress\": df_sleep_stress,\n",
    "        \"sleep_hr\": df_sleephr,\n",
    "        \"sleep_respiration\": df_respiration,\n",
    "        \"sleep_spo2\": df_spo2\n",
    "    }\n",
    "\n",
    "    for df in frames.values():\n",
    "        for col in df.columns:\n",
    "            # Convert dict columns to JSON string\n",
    "            if df[col].apply(type).eq(dict).any():\n",
    "                df[col] = df[col].apply(json.dumps)\n",
    "\n",
    "    for table_name, df in frames.items():\n",
    "        df['calendarDate'] = date\n",
    "        df.to_sql(table_name, con=engine, if_exists=\"append\", index=False)\n",
    "        \n",
    "    return True\n",
    "\n",
    "\n",
    "def loopbackwards(start_date_str, engine):\n",
    "    current_date = datetime.datetime.strptime(start_date_str, \"%Y-%m-%d\").date()\n",
    "    \n",
    "    while True:\n",
    "        print(f\"Processing date: {current_date}\")\n",
    "        success = processupload(str(current_date), engine)\n",
    "        if not success:\n",
    "            print(f\"No more data found for date {current_date}. Stopping.\")\n",
    "            \n",
    "        \n",
    "        current_date -= datetime.timedelta(days=1)\n",
    "\n",
    "\n",
    "today = datetime.date.today().strftime(\"%Y-%m-%d\")\n",
    "loopbackwards(today, engine)\n"
   ]
  }
 ],
 "metadata": {
  "kernelspec": {
   "display_name": "Python 3.10.8 64-bit",
   "language": "python",
   "name": "python3"
  },
  "language_info": {
   "codemirror_mode": {
    "name": "ipython",
    "version": 3
   },
   "file_extension": ".py",
   "mimetype": "text/x-python",
   "name": "python",
   "nbconvert_exporter": "python",
   "pygments_lexer": "ipython3",
   "version": "3.10.8"
  },
  "orig_nbformat": 4,
  "vscode": {
   "interpreter": {
    "hash": "aee8b7b246df8f9039afb4144a1f6fd8d2ca17a180786b69acc140d282b71a49"
   }
  }
 },
 "nbformat": 4,
 "nbformat_minor": 2
}
