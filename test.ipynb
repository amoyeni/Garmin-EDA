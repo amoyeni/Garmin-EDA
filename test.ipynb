{
 "cells": [
  {
   "cell_type": "code",
   "execution_count": 3,
   "metadata": {},
   "outputs": [],
   "source": [
    "import garminconnect\n",
    "import pandas as pd"
   ]
  },
  {
   "cell_type": "code",
   "execution_count": 4,
   "metadata": {},
   "outputs": [
    {
     "data": {
      "text/plain": [
       "'5f3dc0bc-4916-4755-894b-cca99162502b'"
      ]
     },
     "execution_count": 4,
     "metadata": {},
     "output_type": "execute_result"
    }
   ],
   "source": [
    "from getpass import getpass\n",
    "\n",
    "email = input(\"Enter email address: \")\n",
    "password = getpass(\"Enter password: \")\n",
    "\n",
    "garmin = garminconnect.Garmin(email, password)\n",
    "garmin.login()\n",
    "\n",
    "garmin.display_name"
   ]
  },
  {
   "cell_type": "markdown",
   "metadata": {},
   "source": [
    "**Export sleep movment data to timeseries table** "
   ]
  },
  {
   "cell_type": "code",
   "execution_count": 6,
   "metadata": {},
   "outputs": [
    {
     "name": "stdout",
     "output_type": "stream",
     "text": [
      "             startGMT              endGMT  activityLevel\n",
      "0 2025-06-11 23:26:00 2025-06-11 23:27:00       5.520759\n",
      "1 2025-06-11 23:27:00 2025-06-11 23:28:00       5.036847\n",
      "2 2025-06-11 23:28:00 2025-06-11 23:29:00       4.529466\n",
      "3 2025-06-11 23:29:00 2025-06-11 23:30:00       4.008012\n",
      "4 2025-06-11 23:30:00 2025-06-11 23:31:00       3.482673\n",
      "     date_key           timestamp  movement\n",
      "0  2025-06-11 2025-06-11 23:26:00  5.520759\n",
      "1  2025-06-11 2025-06-11 23:27:00  5.036847\n",
      "2  2025-06-11 2025-06-11 23:28:00  4.529466\n",
      "3  2025-06-11 2025-06-11 23:29:00  4.008012\n",
      "4  2025-06-11 2025-06-11 23:30:00  3.482673\n"
     ]
    }
   ],
   "source": [
    "import json\n",
    "data = garmin.get_sleep_data(\"2025-06-12\")\n",
    "\n",
    "sleep_movement_data = data['sleepMovement']\n",
    "df_sleep_movement = pd.DataFrame(sleep_movement_data)\n",
    "df_sleep_movement['startGMT'] = pd.to_datetime(df_sleep_movement['startGMT'])\n",
    "df_sleep_movement['endGMT'] = pd.to_datetime(df_sleep_movement['endGMT'])\n",
    "\n",
    "print(df_sleep_movement.head())\n",
    "\n",
    "df_db = pd.DataFrame({\n",
    "    'date_key': df_sleep_movement['startGMT'].dt.date, \n",
    "    'timestamp': df_sleep_movement['startGMT'],      \n",
    "    'movement': df_sleep_movement['activityLevel']\n",
    "})\n",
    "\n",
    "print(df_db.head())"
   ]
  },
  {
   "cell_type": "markdown",
   "metadata": {},
   "source": [
    "**spo2 Data**"
   ]
  },
  {
   "cell_type": "code",
   "execution_count": 18,
   "metadata": {},
   "outputs": [
    {
     "name": "stdout",
     "output_type": "stream",
     "text": [
      "   userProfilePK      epochTimestamp    deviceId calendarDate  epochDuration  \\\n",
      "0       80897268 2025-06-12 00:26:00  3339097678   2025-06-12             60   \n",
      "1       80897268 2025-06-12 00:27:00  3339097678   2025-06-12             60   \n",
      "2       80897268 2025-06-12 00:28:00  3339097678   2025-06-12             60   \n",
      "3       80897268 2025-06-12 00:29:00  3339097678   2025-06-12             60   \n",
      "4       80897268 2025-06-12 00:30:00  3339097678   2025-06-12             60   \n",
      "\n",
      "   spo2Reading  readingConfidence  \n",
      "0           95                 17  \n",
      "1           96                 14  \n",
      "2           96                 25  \n",
      "3           94                 19  \n",
      "4           94                  6  \n"
     ]
    }
   ],
   "source": [
    "spo2_data = data['wellnessEpochSPO2DataDTOList']\n",
    "df_spo2 = pd.DataFrame(spo2_data)\n",
    "df_spo2['epochTimestamp'] = pd.to_datetime(df_spo2['epochTimestamp'])\n",
    "\n",
    "df_spo2['calendarDate'] = pd.to_datetime(df_spo2['calendarDate'])\n",
    "\n",
    "print(df_spo2.head())\n",
    "\n"
   ]
  },
  {
   "cell_type": "code",
   "execution_count": 22,
   "metadata": {},
   "outputs": [
    {
     "name": "stdout",
     "output_type": "stream",
     "text": [
      "           startTimeGMT  respirationValue\n",
      "0   2025-06-12 00:26:00              13.0\n",
      "1   2025-06-12 00:26:00              13.0\n",
      "2   2025-06-12 00:28:00              13.0\n",
      "3   2025-06-12 00:30:00              13.0\n",
      "4   2025-06-12 00:32:00              13.0\n",
      "..                  ...               ...\n",
      "210 2025-06-12 07:24:00              15.0\n",
      "211 2025-06-12 07:26:00              15.0\n",
      "212 2025-06-12 07:28:00              16.0\n",
      "213 2025-06-12 07:30:00              16.0\n",
      "214 2025-06-12 07:32:00              16.0\n",
      "\n",
      "[215 rows x 2 columns]\n"
     ]
    }
   ],
   "source": [
    "respiration_data = data['wellnessEpochRespirationDataDTOList']\n",
    "df_respiration = pd.DataFrame(respiration_data)\n",
    "df_respiration['startTimeGMT'] = pd.to_datetime(df_respiration['startTimeGMT'], unit='ms')\n",
    "\n",
    "\n",
    "print(df_respiration)"
   ]
  },
  {
   "cell_type": "code",
   "execution_count": 25,
   "metadata": {},
   "outputs": [
    {
     "name": "stdout",
     "output_type": "stream",
     "text": [
      "     value            startGMT\n",
      "0       82 2025-06-12 00:26:00\n",
      "1       82 2025-06-12 00:28:00\n",
      "2       79 2025-06-12 00:30:00\n",
      "3       76 2025-06-12 00:32:00\n",
      "4       78 2025-06-12 00:34:00\n",
      "..     ...                 ...\n",
      "209     63 2025-06-12 07:24:00\n",
      "210     62 2025-06-12 07:26:00\n",
      "211     63 2025-06-12 07:28:00\n",
      "212     64 2025-06-12 07:30:00\n",
      "213     64 2025-06-12 07:32:00\n",
      "\n",
      "[214 rows x 2 columns]\n"
     ]
    }
   ],
   "source": [
    "sleephr_data = data['sleepHeartRate']\n",
    "df_sleephr = pd.DataFrame(sleephr_data)\n",
    "df_sleephr['startGMT'] = pd.to_datetime(df_sleephr['startGMT'], unit='ms')\n",
    "\n",
    "\n",
    "print(df_sleephr)"
   ]
  },
  {
   "cell_type": "code",
   "execution_count": 27,
   "metadata": {},
   "outputs": [
    {
     "name": "stdout",
     "output_type": "stream",
     "text": [
      "     value            startGMT\n",
      "0       80 2025-06-12 00:24:00\n",
      "1       70 2025-06-12 00:27:00\n",
      "2       52 2025-06-12 00:30:00\n",
      "3       46 2025-06-12 00:33:00\n",
      "4       24 2025-06-12 00:36:00\n",
      "..     ...                 ...\n",
      "139     21 2025-06-12 07:21:00\n",
      "140     21 2025-06-12 07:24:00\n",
      "141     23 2025-06-12 07:27:00\n",
      "142     25 2025-06-12 07:30:00\n",
      "143     31 2025-06-12 07:33:00\n",
      "\n",
      "[144 rows x 2 columns]\n"
     ]
    }
   ],
   "source": [
    "sleep_stress_data = data['sleepStress']\n",
    "df_sleep_stress = pd.DataFrame(sleep_stress_data)\n",
    "df_sleep_stress['startGMT'] = pd.to_datetime(df_sleep_stress['startGMT'], unit='ms')\n",
    "\n",
    "\n",
    "print(df_sleep_stress)"
   ]
  },
  {
   "cell_type": "code",
   "execution_count": 28,
   "metadata": {},
   "outputs": [
    {
     "name": "stdout",
     "output_type": "stream",
     "text": [
      "     value            startGMT\n",
      "0       10 2025-06-12 00:24:00\n",
      "1       10 2025-06-12 00:27:00\n",
      "2       10 2025-06-12 00:30:00\n",
      "3       10 2025-06-12 00:33:00\n",
      "4       10 2025-06-12 00:36:00\n",
      "..     ...                 ...\n",
      "139     75 2025-06-12 07:21:00\n",
      "140     75 2025-06-12 07:24:00\n",
      "141     75 2025-06-12 07:27:00\n",
      "142     75 2025-06-12 07:30:00\n",
      "143     75 2025-06-12 07:33:00\n",
      "\n",
      "[144 rows x 2 columns]\n"
     ]
    }
   ],
   "source": [
    "sleep_BB_data = data['sleepBodyBattery']\n",
    "df_sleep_BB = pd.DataFrame(sleep_BB_data)\n",
    "df_sleep_BB['startGMT'] = pd.to_datetime(df_sleep_BB['startGMT'], unit='ms')\n",
    "\n",
    "\n",
    "print(df_sleep_BB)"
   ]
  },
  {
   "cell_type": "code",
   "execution_count": 29,
   "metadata": {},
   "outputs": [
    {
     "name": "stdout",
     "output_type": "stream",
     "text": [
      "    value            startGMT\n",
      "0    22.0 2025-06-12 00:26:14\n",
      "1    23.0 2025-06-12 00:31:14\n",
      "2    33.0 2025-06-12 00:36:14\n",
      "3    42.0 2025-06-12 00:41:14\n",
      "4    53.0 2025-06-12 00:46:14\n",
      "..    ...                 ...\n",
      "81   60.0 2025-06-12 07:11:14\n",
      "82   57.0 2025-06-12 07:16:14\n",
      "83   58.0 2025-06-12 07:21:14\n",
      "84   57.0 2025-06-12 07:26:14\n",
      "85   53.0 2025-06-12 07:31:14\n",
      "\n",
      "[86 rows x 2 columns]\n"
     ]
    }
   ],
   "source": [
    "sleep_HRV_data = data['hrvData']\n",
    "df_sleep_HRV = pd.DataFrame(sleep_HRV_data)\n",
    "df_sleep_HRV['startGMT'] = pd.to_datetime(df_sleep_HRV['startGMT'], unit='ms')\n",
    "\n",
    "\n",
    "print(df_sleep_HRV)"
   ]
  },
  {
   "cell_type": "code",
   "execution_count": 30,
   "metadata": {},
   "outputs": [
    {
     "name": "stdout",
     "output_type": "stream",
     "text": [
      "              startGMT              endGMT  activityLevel\n",
      "0  2025-06-12 00:26:00 2025-06-12 00:50:00            1.0\n",
      "1  2025-06-12 00:50:00 2025-06-12 01:22:00            0.0\n",
      "2  2025-06-12 01:22:00 2025-06-12 01:35:00            1.0\n",
      "3  2025-06-12 01:35:00 2025-06-12 01:47:00            0.0\n",
      "4  2025-06-12 01:47:00 2025-06-12 02:02:00            1.0\n",
      "5  2025-06-12 02:02:00 2025-06-12 02:27:00            0.0\n",
      "6  2025-06-12 02:27:00 2025-06-12 02:39:00            1.0\n",
      "7  2025-06-12 02:39:00 2025-06-12 03:12:00            0.0\n",
      "8  2025-06-12 03:12:00 2025-06-12 04:03:00            1.0\n",
      "9  2025-06-12 04:03:00 2025-06-12 04:17:00            0.0\n",
      "10 2025-06-12 04:17:00 2025-06-12 04:29:00            1.0\n",
      "11 2025-06-12 04:29:00 2025-06-12 04:44:00            2.0\n",
      "12 2025-06-12 04:44:00 2025-06-12 05:15:00            1.0\n",
      "13 2025-06-12 05:15:00 2025-06-12 05:28:00            2.0\n",
      "14 2025-06-12 05:28:00 2025-06-12 05:55:00            1.0\n",
      "15 2025-06-12 05:55:00 2025-06-12 06:26:00            2.0\n",
      "16 2025-06-12 06:26:00 2025-06-12 06:43:00            3.0\n",
      "17 2025-06-12 06:43:00 2025-06-12 07:34:00            1.0\n"
     ]
    }
   ],
   "source": [
    "sleep_levels_data = data['sleepLevels']\n",
    "df_sleep_levels = pd.DataFrame(sleep_levels_data)\n",
    "df_sleep_levels['startGMT'] = pd.to_datetime(df_sleep_levels['startGMT'])\n",
    "df_sleep_levels['endGMT'] = pd.to_datetime(df_sleep_levels['endGMT'])\n",
    "\n",
    "print(df_sleep_levels)"
   ]
  },
  {
   "cell_type": "code",
   "execution_count": null,
   "metadata": {},
   "outputs": [],
   "source": [
    "import pandas as pd\n",
    "import numpy as np\n",
    "\n",
    "from sqlalchemy import create_engine, text\n",
    "from dotenv import load_dotenv\n",
    "import os\n",
    "load_dotenv()"
   ]
  },
  {
   "cell_type": "code",
   "execution_count": null,
   "metadata": {},
   "outputs": [],
   "source": [
    "user = os.getenv(\"user\")\n",
    "password = os.getenv(\"password\")\n",
    "host = os.getenv(\"host\")\n",
    "port = os.getenv(\"port\")\n",
    "dbname = os.getenv(\"dbname\")\n",
    "\n",
    "DATABASE_URL = f\"postgresql://{user}:{password}@{host}:{port}/{dbname}\"\n",
    "engine = create_engine(DATABASE_URL)\n",
    "\n",
    "try:\n",
    "    with engine.connect() as conn:\n",
    "        result = result = conn.execute(text(\"SELECT version();\"))\n",
    "        for row in result:\n",
    "            print(\"✅ Connected to:\", row[0])\n",
    "except Exception as e:\n",
    "    print(\"❌ Connection failed:\", e)"
   ]
  },
  {
   "cell_type": "code",
   "execution_count": null,
   "metadata": {},
   "outputs": [],
   "source": []
  }
 ],
 "metadata": {
  "kernelspec": {
   "display_name": "Python 3.10.8 64-bit",
   "language": "python",
   "name": "python3"
  },
  "language_info": {
   "codemirror_mode": {
    "name": "ipython",
    "version": 3
   },
   "file_extension": ".py",
   "mimetype": "text/x-python",
   "name": "python",
   "nbconvert_exporter": "python",
   "pygments_lexer": "ipython3",
   "version": "3.10.8"
  },
  "orig_nbformat": 4,
  "vscode": {
   "interpreter": {
    "hash": "aee8b7b246df8f9039afb4144a1f6fd8d2ca17a180786b69acc140d282b71a49"
   }
  }
 },
 "nbformat": 4,
 "nbformat_minor": 2
}
