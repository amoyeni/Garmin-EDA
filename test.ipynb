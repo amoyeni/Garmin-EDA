{
 "cells": [
  {
   "cell_type": "code",
   "execution_count": 4,
   "metadata": {},
   "outputs": [
    {
     "data": {
      "text/plain": [
       "True"
      ]
     },
     "execution_count": 4,
     "metadata": {},
     "output_type": "execute_result"
    }
   ],
   "source": [
    "import garminconnect\n",
    "import pandas as pd\n",
    "import numpy as np\n",
    "from sqlalchemy import create_engine, text\n",
    "from dotenv import load_dotenv\n",
    "import os\n",
    "load_dotenv()"
   ]
  },
  {
   "cell_type": "code",
   "execution_count": 5,
   "metadata": {},
   "outputs": [
    {
     "data": {
      "text/plain": [
       "'5f3dc0bc-4916-4755-894b-cca99162502b'"
      ]
     },
     "execution_count": 5,
     "metadata": {},
     "output_type": "execute_result"
    }
   ],
   "source": [
    "email = os.getenv(\"email\")\n",
    "password = os.getenv(\"garminpassword\")\\\n",
    "\n",
    "garmin = garminconnect.Garmin(email, password)\n",
    "garmin.login()\n",
    "\n",
    "garmin.display_name"
   ]
  },
  {
   "cell_type": "markdown",
   "metadata": {},
   "source": [
    "**Export sleep movment data to timeseries table** "
   ]
  },
  {
   "cell_type": "code",
   "execution_count": 29,
   "metadata": {},
   "outputs": [
    {
     "name": "stdout",
     "output_type": "stream",
     "text": [
      "                          id  userProfilePK calendarDate  sleepTimeSeconds  \\\n",
      "totalDuration  1749687960000       80897268   2025-06-12             24660   \n",
      "stress         1749687960000       80897268   2025-06-12             24660   \n",
      "awakeCount     1749687960000       80897268   2025-06-12             24660   \n",
      "overall        1749687960000       80897268   2025-06-12             24660   \n",
      "remPercentage  1749687960000       80897268   2025-06-12             24660   \n",
      "\n",
      "               napTimeSeconds  sleepWindowConfirmed  \\\n",
      "totalDuration               0                  True   \n",
      "stress                      0                  True   \n",
      "awakeCount                  0                  True   \n",
      "overall                     0                  True   \n",
      "remPercentage               0                  True   \n",
      "\n",
      "              sleepWindowConfirmationType  sleepStartTimestampGMT  \\\n",
      "totalDuration    enhanced_confirmed_final           1749687960000   \n",
      "stress           enhanced_confirmed_final           1749687960000   \n",
      "awakeCount       enhanced_confirmed_final           1749687960000   \n",
      "overall          enhanced_confirmed_final           1749687960000   \n",
      "remPercentage    enhanced_confirmed_final           1749687960000   \n",
      "\n",
      "               sleepEndTimestampGMT  sleepStartTimestampLocal  ...  \\\n",
      "totalDuration         1749713640000             1749691560000  ...   \n",
      "stress                1749713640000             1749691560000  ...   \n",
      "awakeCount            1749713640000             1749691560000  ...   \n",
      "overall               1749713640000             1749691560000  ...   \n",
      "remPercentage         1749713640000             1749691560000  ...   \n",
      "\n",
      "               lowestRespirationValue highestRespirationValue awakeCount  \\\n",
      "totalDuration                    10.0                    20.0          1   \n",
      "stress                           10.0                    20.0          1   \n",
      "awakeCount                       10.0                    20.0          1   \n",
      "overall                          10.0                    20.0          1   \n",
      "remPercentage                    10.0                    20.0          1   \n",
      "\n",
      "              avgSleepStress ageGroup  sleepScoreFeedback  sleepScoreInsight  \\\n",
      "totalDuration           19.0    ADULT       POSITIVE_DEEP               NONE   \n",
      "stress                  19.0    ADULT       POSITIVE_DEEP               NONE   \n",
      "awakeCount              19.0    ADULT       POSITIVE_DEEP               NONE   \n",
      "overall                 19.0    ADULT       POSITIVE_DEEP               NONE   \n",
      "remPercentage           19.0    ADULT       POSITIVE_DEEP               NONE   \n",
      "\n",
      "               sleepScorePersonalizedInsight  \\\n",
      "totalDuration                  NOT_AVAILABLE   \n",
      "stress                         NOT_AVAILABLE   \n",
      "awakeCount                     NOT_AVAILABLE   \n",
      "overall                        NOT_AVAILABLE   \n",
      "remPercentage                  NOT_AVAILABLE   \n",
      "\n",
      "                                                     sleepScores  sleepVersion  \n",
      "totalDuration  {'qualifierKey': 'FAIR', 'optimalStart': 28800...             2  \n",
      "stress         {'qualifierKey': 'FAIR', 'optimalStart': 0.0, ...             2  \n",
      "awakeCount     {'qualifierKey': 'GOOD', 'optimalStart': 0.0, ...             2  \n",
      "overall                    {'value': 77, 'qualifierKey': 'FAIR'}             2  \n",
      "remPercentage  {'value': 14, 'qualifierKey': 'FAIR', 'optimal...             2  \n",
      "\n",
      "[5 rows x 38 columns]\n"
     ]
    }
   ],
   "source": [
    "import json\n",
    "date = '2025-06-12'\n",
    "\n",
    "data = garmin.get_sleep_data(date)\n",
    "general_sleep_data = data['dailySleepDTO']\n",
    "df_general = pd.DataFrame(general_sleep_data)\n",
    "\n",
    "print(df_general.head())"
   ]
  },
  {
   "cell_type": "code",
   "execution_count": 30,
   "metadata": {},
   "outputs": [
    {
     "name": "stdout",
     "output_type": "stream",
     "text": [
      "             startGMT              endGMT  activityLevel calendarDate\n",
      "0 2025-06-11 23:26:00 2025-06-11 23:27:00       5.520759   2025-06-12\n",
      "1 2025-06-11 23:27:00 2025-06-11 23:28:00       5.036847   2025-06-12\n",
      "2 2025-06-11 23:28:00 2025-06-11 23:29:00       4.529466   2025-06-12\n",
      "3 2025-06-11 23:29:00 2025-06-11 23:30:00       4.008012   2025-06-12\n",
      "4 2025-06-11 23:30:00 2025-06-11 23:31:00       3.482673   2025-06-12\n"
     ]
    }
   ],
   "source": [
    "sleep_movement_data = data['sleepMovement']\n",
    "df_sleep_movement = pd.DataFrame(sleep_movement_data)\n",
    "df_sleep_movement['startGMT'] = pd.to_datetime(df_sleep_movement['startGMT'])\n",
    "df_sleep_movement['endGMT'] = pd.to_datetime(df_sleep_movement['endGMT'])\n",
    "df_sleep_movement['calendarDate'] = date\n",
    "\n",
    "print(df_sleep_movement.head())"
   ]
  },
  {
   "cell_type": "markdown",
   "metadata": {},
   "source": [
    "**spo2 Data**"
   ]
  },
  {
   "cell_type": "code",
   "execution_count": 7,
   "metadata": {},
   "outputs": [
    {
     "name": "stdout",
     "output_type": "stream",
     "text": [
      "   userProfilePK      epochTimestamp    deviceId calendarDate  epochDuration  \\\n",
      "0       80897268 2025-06-12 00:26:00  3339097678   2025-06-12             60   \n",
      "1       80897268 2025-06-12 00:27:00  3339097678   2025-06-12             60   \n",
      "2       80897268 2025-06-12 00:28:00  3339097678   2025-06-12             60   \n",
      "3       80897268 2025-06-12 00:29:00  3339097678   2025-06-12             60   \n",
      "4       80897268 2025-06-12 00:30:00  3339097678   2025-06-12             60   \n",
      "\n",
      "   spo2Reading  readingConfidence  \n",
      "0           95                 17  \n",
      "1           96                 14  \n",
      "2           96                 25  \n",
      "3           94                 19  \n",
      "4           94                  6  \n"
     ]
    }
   ],
   "source": [
    "spo2_data = data['wellnessEpochSPO2DataDTOList']\n",
    "df_spo2 = pd.DataFrame(spo2_data)\n",
    "df_spo2['epochTimestamp'] = pd.to_datetime(df_spo2['epochTimestamp'])\n",
    "\n",
    "df_spo2['calendarDate'] = pd.to_datetime(df_spo2['calendarDate'])\n",
    "\n",
    "print(df_spo2.head())\n",
    "\n"
   ]
  },
  {
   "cell_type": "code",
   "execution_count": 8,
   "metadata": {},
   "outputs": [
    {
     "name": "stdout",
     "output_type": "stream",
     "text": [
      "           startTimeGMT  respirationValue\n",
      "0   2025-06-12 00:26:00              13.0\n",
      "1   2025-06-12 00:26:00              13.0\n",
      "2   2025-06-12 00:28:00              13.0\n",
      "3   2025-06-12 00:30:00              13.0\n",
      "4   2025-06-12 00:32:00              13.0\n",
      "..                  ...               ...\n",
      "210 2025-06-12 07:24:00              15.0\n",
      "211 2025-06-12 07:26:00              15.0\n",
      "212 2025-06-12 07:28:00              16.0\n",
      "213 2025-06-12 07:30:00              16.0\n",
      "214 2025-06-12 07:32:00              16.0\n",
      "\n",
      "[215 rows x 2 columns]\n"
     ]
    }
   ],
   "source": [
    "respiration_data = data['wellnessEpochRespirationDataDTOList']\n",
    "df_respiration = pd.DataFrame(respiration_data)\n",
    "df_respiration['startTimeGMT'] = pd.to_datetime(df_respiration['startTimeGMT'], unit='ms')\n",
    "\n",
    "\n",
    "print(df_respiration)"
   ]
  },
  {
   "cell_type": "code",
   "execution_count": 9,
   "metadata": {},
   "outputs": [
    {
     "name": "stdout",
     "output_type": "stream",
     "text": [
      "     value            startGMT\n",
      "0       82 2025-06-12 00:26:00\n",
      "1       82 2025-06-12 00:28:00\n",
      "2       79 2025-06-12 00:30:00\n",
      "3       76 2025-06-12 00:32:00\n",
      "4       78 2025-06-12 00:34:00\n",
      "..     ...                 ...\n",
      "209     63 2025-06-12 07:24:00\n",
      "210     62 2025-06-12 07:26:00\n",
      "211     63 2025-06-12 07:28:00\n",
      "212     64 2025-06-12 07:30:00\n",
      "213     64 2025-06-12 07:32:00\n",
      "\n",
      "[214 rows x 2 columns]\n"
     ]
    }
   ],
   "source": [
    "sleephr_data = data['sleepHeartRate']\n",
    "df_sleephr = pd.DataFrame(sleephr_data)\n",
    "df_sleephr['startGMT'] = pd.to_datetime(df_sleephr['startGMT'], unit='ms')\n",
    "\n",
    "\n",
    "print(df_sleephr)"
   ]
  },
  {
   "cell_type": "code",
   "execution_count": 10,
   "metadata": {},
   "outputs": [
    {
     "name": "stdout",
     "output_type": "stream",
     "text": [
      "     value            startGMT\n",
      "0       80 2025-06-12 00:24:00\n",
      "1       70 2025-06-12 00:27:00\n",
      "2       52 2025-06-12 00:30:00\n",
      "3       46 2025-06-12 00:33:00\n",
      "4       24 2025-06-12 00:36:00\n",
      "..     ...                 ...\n",
      "139     21 2025-06-12 07:21:00\n",
      "140     21 2025-06-12 07:24:00\n",
      "141     23 2025-06-12 07:27:00\n",
      "142     25 2025-06-12 07:30:00\n",
      "143     31 2025-06-12 07:33:00\n",
      "\n",
      "[144 rows x 2 columns]\n"
     ]
    }
   ],
   "source": [
    "sleep_stress_data = data['sleepStress']\n",
    "df_sleep_stress = pd.DataFrame(sleep_stress_data)\n",
    "df_sleep_stress['startGMT'] = pd.to_datetime(df_sleep_stress['startGMT'], unit='ms')\n",
    "\n",
    "\n",
    "print(df_sleep_stress)"
   ]
  },
  {
   "cell_type": "code",
   "execution_count": 11,
   "metadata": {},
   "outputs": [
    {
     "name": "stdout",
     "output_type": "stream",
     "text": [
      "     value            startGMT\n",
      "0       10 2025-06-12 00:24:00\n",
      "1       10 2025-06-12 00:27:00\n",
      "2       10 2025-06-12 00:30:00\n",
      "3       10 2025-06-12 00:33:00\n",
      "4       10 2025-06-12 00:36:00\n",
      "..     ...                 ...\n",
      "139     75 2025-06-12 07:21:00\n",
      "140     75 2025-06-12 07:24:00\n",
      "141     75 2025-06-12 07:27:00\n",
      "142     75 2025-06-12 07:30:00\n",
      "143     75 2025-06-12 07:33:00\n",
      "\n",
      "[144 rows x 2 columns]\n"
     ]
    }
   ],
   "source": [
    "sleep_BB_data = data['sleepBodyBattery']\n",
    "df_sleep_BB = pd.DataFrame(sleep_BB_data)\n",
    "df_sleep_BB['startGMT'] = pd.to_datetime(df_sleep_BB['startGMT'], unit='ms')\n",
    "\n",
    "\n",
    "print(df_sleep_BB)"
   ]
  },
  {
   "cell_type": "code",
   "execution_count": 12,
   "metadata": {},
   "outputs": [
    {
     "name": "stdout",
     "output_type": "stream",
     "text": [
      "    value            startGMT\n",
      "0    22.0 2025-06-12 00:26:14\n",
      "1    23.0 2025-06-12 00:31:14\n",
      "2    33.0 2025-06-12 00:36:14\n",
      "3    42.0 2025-06-12 00:41:14\n",
      "4    53.0 2025-06-12 00:46:14\n",
      "..    ...                 ...\n",
      "81   60.0 2025-06-12 07:11:14\n",
      "82   57.0 2025-06-12 07:16:14\n",
      "83   58.0 2025-06-12 07:21:14\n",
      "84   57.0 2025-06-12 07:26:14\n",
      "85   53.0 2025-06-12 07:31:14\n",
      "\n",
      "[86 rows x 2 columns]\n"
     ]
    }
   ],
   "source": [
    "sleep_HRV_data = data['hrvData']\n",
    "df_sleep_HRV = pd.DataFrame(sleep_HRV_data)\n",
    "df_sleep_HRV['startGMT'] = pd.to_datetime(df_sleep_HRV['startGMT'], unit='ms')\n",
    "\n",
    "\n",
    "print(df_sleep_HRV)"
   ]
  },
  {
   "cell_type": "code",
   "execution_count": 13,
   "metadata": {},
   "outputs": [
    {
     "name": "stdout",
     "output_type": "stream",
     "text": [
      "              startGMT              endGMT  activityLevel\n",
      "0  2025-06-12 00:26:00 2025-06-12 00:50:00            1.0\n",
      "1  2025-06-12 00:50:00 2025-06-12 01:22:00            0.0\n",
      "2  2025-06-12 01:22:00 2025-06-12 01:35:00            1.0\n",
      "3  2025-06-12 01:35:00 2025-06-12 01:47:00            0.0\n",
      "4  2025-06-12 01:47:00 2025-06-12 02:02:00            1.0\n",
      "5  2025-06-12 02:02:00 2025-06-12 02:27:00            0.0\n",
      "6  2025-06-12 02:27:00 2025-06-12 02:39:00            1.0\n",
      "7  2025-06-12 02:39:00 2025-06-12 03:12:00            0.0\n",
      "8  2025-06-12 03:12:00 2025-06-12 04:03:00            1.0\n",
      "9  2025-06-12 04:03:00 2025-06-12 04:17:00            0.0\n",
      "10 2025-06-12 04:17:00 2025-06-12 04:29:00            1.0\n",
      "11 2025-06-12 04:29:00 2025-06-12 04:44:00            2.0\n",
      "12 2025-06-12 04:44:00 2025-06-12 05:15:00            1.0\n",
      "13 2025-06-12 05:15:00 2025-06-12 05:28:00            2.0\n",
      "14 2025-06-12 05:28:00 2025-06-12 05:55:00            1.0\n",
      "15 2025-06-12 05:55:00 2025-06-12 06:26:00            2.0\n",
      "16 2025-06-12 06:26:00 2025-06-12 06:43:00            3.0\n",
      "17 2025-06-12 06:43:00 2025-06-12 07:34:00            1.0\n"
     ]
    }
   ],
   "source": [
    "sleep_levels_data = data['sleepLevels']\n",
    "df_sleep_levels = pd.DataFrame(sleep_levels_data)\n",
    "df_sleep_levels['startGMT'] = pd.to_datetime(df_sleep_levels['startGMT'])\n",
    "df_sleep_levels['endGMT'] = pd.to_datetime(df_sleep_levels['endGMT'])\n",
    "\n",
    "print(df_sleep_levels)"
   ]
  },
  {
   "cell_type": "code",
   "execution_count": 14,
   "metadata": {},
   "outputs": [
    {
     "data": {
      "text/plain": [
       "(              startGMT              endGMT  activityLevel\n",
       " 0  2025-06-12 00:26:00 2025-06-12 00:50:00            1.0\n",
       " 1  2025-06-12 00:50:00 2025-06-12 01:22:00            0.0\n",
       " 2  2025-06-12 01:22:00 2025-06-12 01:35:00            1.0\n",
       " 3  2025-06-12 01:35:00 2025-06-12 01:47:00            0.0\n",
       " 4  2025-06-12 01:47:00 2025-06-12 02:02:00            1.0\n",
       " 5  2025-06-12 02:02:00 2025-06-12 02:27:00            0.0\n",
       " 6  2025-06-12 02:27:00 2025-06-12 02:39:00            1.0\n",
       " 7  2025-06-12 02:39:00 2025-06-12 03:12:00            0.0\n",
       " 8  2025-06-12 03:12:00 2025-06-12 04:03:00            1.0\n",
       " 9  2025-06-12 04:03:00 2025-06-12 04:17:00            0.0\n",
       " 10 2025-06-12 04:17:00 2025-06-12 04:29:00            1.0\n",
       " 11 2025-06-12 04:29:00 2025-06-12 04:44:00            2.0\n",
       " 12 2025-06-12 04:44:00 2025-06-12 05:15:00            1.0\n",
       " 13 2025-06-12 05:15:00 2025-06-12 05:28:00            2.0\n",
       " 14 2025-06-12 05:28:00 2025-06-12 05:55:00            1.0\n",
       " 15 2025-06-12 05:55:00 2025-06-12 06:26:00            2.0\n",
       " 16 2025-06-12 06:26:00 2025-06-12 06:43:00            3.0\n",
       " 17 2025-06-12 06:43:00 2025-06-12 07:34:00            1.0,\n",
       "     value            startGMT\n",
       " 0    22.0 2025-06-12 00:26:14\n",
       " 1    23.0 2025-06-12 00:31:14\n",
       " 2    33.0 2025-06-12 00:36:14\n",
       " 3    42.0 2025-06-12 00:41:14\n",
       " 4    53.0 2025-06-12 00:46:14\n",
       " ..    ...                 ...\n",
       " 81   60.0 2025-06-12 07:11:14\n",
       " 82   57.0 2025-06-12 07:16:14\n",
       " 83   58.0 2025-06-12 07:21:14\n",
       " 84   57.0 2025-06-12 07:26:14\n",
       " 85   53.0 2025-06-12 07:31:14\n",
       " \n",
       " [86 rows x 2 columns],\n",
       "      value            startGMT\n",
       " 0       10 2025-06-12 00:24:00\n",
       " 1       10 2025-06-12 00:27:00\n",
       " 2       10 2025-06-12 00:30:00\n",
       " 3       10 2025-06-12 00:33:00\n",
       " 4       10 2025-06-12 00:36:00\n",
       " ..     ...                 ...\n",
       " 139     75 2025-06-12 07:21:00\n",
       " 140     75 2025-06-12 07:24:00\n",
       " 141     75 2025-06-12 07:27:00\n",
       " 142     75 2025-06-12 07:30:00\n",
       " 143     75 2025-06-12 07:33:00\n",
       " \n",
       " [144 rows x 2 columns],\n",
       "      value            startGMT\n",
       " 0       80 2025-06-12 00:24:00\n",
       " 1       70 2025-06-12 00:27:00\n",
       " 2       52 2025-06-12 00:30:00\n",
       " 3       46 2025-06-12 00:33:00\n",
       " 4       24 2025-06-12 00:36:00\n",
       " ..     ...                 ...\n",
       " 139     21 2025-06-12 07:21:00\n",
       " 140     21 2025-06-12 07:24:00\n",
       " 141     23 2025-06-12 07:27:00\n",
       " 142     25 2025-06-12 07:30:00\n",
       " 143     31 2025-06-12 07:33:00\n",
       " \n",
       " [144 rows x 2 columns],\n",
       "      value            startGMT\n",
       " 0       82 2025-06-12 00:26:00\n",
       " 1       82 2025-06-12 00:28:00\n",
       " 2       79 2025-06-12 00:30:00\n",
       " 3       76 2025-06-12 00:32:00\n",
       " 4       78 2025-06-12 00:34:00\n",
       " ..     ...                 ...\n",
       " 209     63 2025-06-12 07:24:00\n",
       " 210     62 2025-06-12 07:26:00\n",
       " 211     63 2025-06-12 07:28:00\n",
       " 212     64 2025-06-12 07:30:00\n",
       " 213     64 2025-06-12 07:32:00\n",
       " \n",
       " [214 rows x 2 columns],\n",
       "            startTimeGMT  respirationValue\n",
       " 0   2025-06-12 00:26:00              13.0\n",
       " 1   2025-06-12 00:26:00              13.0\n",
       " 2   2025-06-12 00:28:00              13.0\n",
       " 3   2025-06-12 00:30:00              13.0\n",
       " 4   2025-06-12 00:32:00              13.0\n",
       " ..                  ...               ...\n",
       " 210 2025-06-12 07:24:00              15.0\n",
       " 211 2025-06-12 07:26:00              15.0\n",
       " 212 2025-06-12 07:28:00              16.0\n",
       " 213 2025-06-12 07:30:00              16.0\n",
       " 214 2025-06-12 07:32:00              16.0\n",
       " \n",
       " [215 rows x 2 columns],\n",
       "      userProfilePK      epochTimestamp    deviceId calendarDate  \\\n",
       " 0         80897268 2025-06-12 00:26:00  3339097678   2025-06-12   \n",
       " 1         80897268 2025-06-12 00:27:00  3339097678   2025-06-12   \n",
       " 2         80897268 2025-06-12 00:28:00  3339097678   2025-06-12   \n",
       " 3         80897268 2025-06-12 00:29:00  3339097678   2025-06-12   \n",
       " 4         80897268 2025-06-12 00:30:00  3339097678   2025-06-12   \n",
       " ..             ...                 ...         ...          ...   \n",
       " 374       80897268 2025-06-12 06:47:00  3339097678   2025-06-12   \n",
       " 375       80897268 2025-06-12 06:48:00  3339097678   2025-06-12   \n",
       " 376       80897268 2025-06-12 06:49:00  3339097678   2025-06-12   \n",
       " 377       80897268 2025-06-12 06:52:00  3339097678   2025-06-12   \n",
       " 378       80897268 2025-06-12 06:54:00  3339097678   2025-06-12   \n",
       " \n",
       "      epochDuration  spo2Reading  readingConfidence  \n",
       " 0               60           95                 17  \n",
       " 1               60           96                 14  \n",
       " 2               60           96                 25  \n",
       " 3               60           94                 19  \n",
       " 4               60           94                  6  \n",
       " ..             ...          ...                ...  \n",
       " 374             60           96                 67  \n",
       " 375             60           96                 41  \n",
       " 376             60           95                 12  \n",
       " 377             60           95                  2  \n",
       " 378             60           95                 11  \n",
       " \n",
       " [379 rows x 7 columns])"
      ]
     },
     "execution_count": 14,
     "metadata": {},
     "output_type": "execute_result"
    }
   ],
   "source": []
  },
  {
   "cell_type": "code",
   "execution_count": null,
   "metadata": {},
   "outputs": [],
   "source": []
  },
  {
   "cell_type": "code",
   "execution_count": 17,
   "metadata": {},
   "outputs": [
    {
     "name": "stdout",
     "output_type": "stream",
     "text": [
      "✅ Connected to: PostgreSQL 17.4 on aarch64-unknown-linux-gnu, compiled by gcc (GCC) 13.2.0, 64-bit\n"
     ]
    }
   ],
   "source": [
    "user = os.getenv(\"user\")\n",
    "password = os.getenv(\"password\")\n",
    "host = os.getenv(\"host\")\n",
    "port = os.getenv(\"port\")\n",
    "dbname = os.getenv(\"dbname\")\n",
    "\n",
    "DATABASE_URL = f\"postgresql://{user}:{password}@{host}:{port}/{dbname}\"\n",
    "engine = create_engine(DATABASE_URL)\n",
    "\n",
    "try:\n",
    "    with engine.connect() as conn:\n",
    "        result = result = conn.execute(text(\"SELECT version();\"))\n",
    "        for row in result:\n",
    "            print(\"✅ Connected to:\", row[0])\n",
    "except Exception as e:\n",
    "    print(\"❌ Connection failed:\", e)"
   ]
  },
  {
   "cell_type": "code",
   "execution_count": 22,
   "metadata": {},
   "outputs": [],
   "source": [
    "frames = {\n",
    "    \"sleep_general\": df_general,\n",
    "    \"sleep_levels\": df_sleep_levels,\n",
    "    \"sleep_hrv\": df_sleep_HRV,\n",
    "    \"sleep_BB\": df_sleep_BB,\n",
    "    \"sleep_stress\":df_sleep_stress,\n",
    "    \"sleep_hr\": df_sleephr,\n",
    "    \"sleep_respiration\": df_respiration,\n",
    "    \"sleep_spo2\": df_spo2\n",
    "}\n",
    "\n",
    "# Identify problematic columns\n",
    "for df in frames.values():\n",
    "    for col in df.columns:\n",
    "        if df[col].apply(type).eq(dict).any():\n",
    "            df[col] = df[col].apply(json.dumps)\n",
    " \n",
    "for table_name, df in frames.items():\n",
    "    df['calendarDate'] = date\n",
    "    df.to_sql(table_name, con=engine, if_exists=\"append\", index=False)\n"
   ]
  }
 ],
 "metadata": {
  "kernelspec": {
   "display_name": "Python 3.10.8 64-bit",
   "language": "python",
   "name": "python3"
  },
  "language_info": {
   "codemirror_mode": {
    "name": "ipython",
    "version": 3
   },
   "file_extension": ".py",
   "mimetype": "text/x-python",
   "name": "python",
   "nbconvert_exporter": "python",
   "pygments_lexer": "ipython3",
   "version": "3.10.8"
  },
  "orig_nbformat": 4,
  "vscode": {
   "interpreter": {
    "hash": "aee8b7b246df8f9039afb4144a1f6fd8d2ca17a180786b69acc140d282b71a49"
   }
  }
 },
 "nbformat": 4,
 "nbformat_minor": 2
}
